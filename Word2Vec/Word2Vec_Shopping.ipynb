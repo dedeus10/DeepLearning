{
  "nbformat": 4,
  "nbformat_minor": 0,
  "metadata": {
    "colab": {
      "name": "Word2Vec_Shopping.ipynb",
      "provenance": []
    },
    "kernelspec": {
      "name": "python3",
      "display_name": "Python 3"
    },
    "accelerator": "GPU"
  },
  "cells": [
    {
      "cell_type": "markdown",
      "metadata": {
        "id": "yQ1OJGem7t_3",
        "colab_type": "text"
      },
      "source": [
        "-------------------------------------------------------------------------------\n",
        "-- Federal University of Santa Maria\n",
        "-- Technology Center\n",
        "-- Computer Engineering Course\n",
        "--\n",
        "-- Author : Luis Felipe de Deus\n",
        "--\n",
        "-- Created: 19 Jun 2020\n",
        "-- Update : 20 Jun 2020\n",
        "-------------------------------------------------------------------------------\n",
        "\n",
        "####### JUST A SMALL IMPLEMENTATION OF WORD2VEC\n",
        "\n",
        "####### MAKING SHOOPING PREDICTIONS"
      ]
    },
    {
      "cell_type": "code",
      "metadata": {
        "id": "y9J6QmO3xJ3t",
        "colab_type": "code",
        "colab": {
          "base_uri": "https://localhost:8080/",
          "height": 86
        },
        "outputId": "b9d77dd6-bc61-4600-fa70-9ce0c17fe3f7"
      },
      "source": [
        "#Download the dataset\n",
        "!gdown https://drive.google.com/uc?id=1NK-2z0l-qTplDJJ2SHpTVBGRP3zWAK-n"
      ],
      "execution_count": 1,
      "outputs": [
        {
          "output_type": "stream",
          "text": [
            "Downloading...\n",
            "From: https://drive.google.com/uc?id=1NK-2z0l-qTplDJJ2SHpTVBGRP3zWAK-n\n",
            "To: /content/retail.xlsx\n",
            "23.7MB [00:00, 38.5MB/s]\n"
          ],
          "name": "stdout"
        }
      ]
    },
    {
      "cell_type": "code",
      "metadata": {
        "id": "33NLQ2NgyciL",
        "colab_type": "code",
        "colab": {
          "base_uri": "https://localhost:8080/",
          "height": 206
        },
        "outputId": "65864e62-c02a-4bc1-f6f6-453d95398e2f"
      },
      "source": [
        "import pandas as pd\n",
        "# Read the data\n",
        "df = pd.read_excel('retail.xlsx')\n",
        "df.head()"
      ],
      "execution_count": 2,
      "outputs": [
        {
          "output_type": "execute_result",
          "data": {
            "text/html": [
              "<div>\n",
              "<style scoped>\n",
              "    .dataframe tbody tr th:only-of-type {\n",
              "        vertical-align: middle;\n",
              "    }\n",
              "\n",
              "    .dataframe tbody tr th {\n",
              "        vertical-align: top;\n",
              "    }\n",
              "\n",
              "    .dataframe thead th {\n",
              "        text-align: right;\n",
              "    }\n",
              "</style>\n",
              "<table border=\"1\" class=\"dataframe\">\n",
              "  <thead>\n",
              "    <tr style=\"text-align: right;\">\n",
              "      <th></th>\n",
              "      <th>InvoiceNo</th>\n",
              "      <th>StockCode</th>\n",
              "      <th>Description</th>\n",
              "      <th>Quantity</th>\n",
              "      <th>InvoiceDate</th>\n",
              "      <th>UnitPrice</th>\n",
              "      <th>CustomerID</th>\n",
              "      <th>Country</th>\n",
              "    </tr>\n",
              "  </thead>\n",
              "  <tbody>\n",
              "    <tr>\n",
              "      <th>0</th>\n",
              "      <td>536365</td>\n",
              "      <td>85123A</td>\n",
              "      <td>WHITE HANGING HEART T-LIGHT HOLDER</td>\n",
              "      <td>6</td>\n",
              "      <td>2010-12-01 08:26:00</td>\n",
              "      <td>2.55</td>\n",
              "      <td>17850.0</td>\n",
              "      <td>United Kingdom</td>\n",
              "    </tr>\n",
              "    <tr>\n",
              "      <th>1</th>\n",
              "      <td>536365</td>\n",
              "      <td>71053</td>\n",
              "      <td>WHITE METAL LANTERN</td>\n",
              "      <td>6</td>\n",
              "      <td>2010-12-01 08:26:00</td>\n",
              "      <td>3.39</td>\n",
              "      <td>17850.0</td>\n",
              "      <td>United Kingdom</td>\n",
              "    </tr>\n",
              "    <tr>\n",
              "      <th>2</th>\n",
              "      <td>536365</td>\n",
              "      <td>84406B</td>\n",
              "      <td>CREAM CUPID HEARTS COAT HANGER</td>\n",
              "      <td>8</td>\n",
              "      <td>2010-12-01 08:26:00</td>\n",
              "      <td>2.75</td>\n",
              "      <td>17850.0</td>\n",
              "      <td>United Kingdom</td>\n",
              "    </tr>\n",
              "    <tr>\n",
              "      <th>3</th>\n",
              "      <td>536365</td>\n",
              "      <td>84029G</td>\n",
              "      <td>KNITTED UNION FLAG HOT WATER BOTTLE</td>\n",
              "      <td>6</td>\n",
              "      <td>2010-12-01 08:26:00</td>\n",
              "      <td>3.39</td>\n",
              "      <td>17850.0</td>\n",
              "      <td>United Kingdom</td>\n",
              "    </tr>\n",
              "    <tr>\n",
              "      <th>4</th>\n",
              "      <td>536365</td>\n",
              "      <td>84029E</td>\n",
              "      <td>RED WOOLLY HOTTIE WHITE HEART.</td>\n",
              "      <td>6</td>\n",
              "      <td>2010-12-01 08:26:00</td>\n",
              "      <td>3.39</td>\n",
              "      <td>17850.0</td>\n",
              "      <td>United Kingdom</td>\n",
              "    </tr>\n",
              "  </tbody>\n",
              "</table>\n",
              "</div>"
            ],
            "text/plain": [
              "  InvoiceNo StockCode  ... CustomerID         Country\n",
              "0    536365    85123A  ...    17850.0  United Kingdom\n",
              "1    536365     71053  ...    17850.0  United Kingdom\n",
              "2    536365    84406B  ...    17850.0  United Kingdom\n",
              "3    536365    84029G  ...    17850.0  United Kingdom\n",
              "4    536365    84029E  ...    17850.0  United Kingdom\n",
              "\n",
              "[5 rows x 8 columns]"
            ]
          },
          "metadata": {
            "tags": []
          },
          "execution_count": 2
        }
      ]
    },
    {
      "cell_type": "markdown",
      "metadata": {
        "id": "HChM_88szGTN",
        "colab_type": "text"
      },
      "source": [
        "\n",
        "- **InvoiceNo**: Purchase ID \n",
        "- **StockCode**: Product ID\n",
        "- **Description**: Description.\n",
        "- **Quantidade**: Quantity.\n",
        "- **InvoiceDate**: Time\n",
        "- **CustomerID**: Client ID"
      ]
    },
    {
      "cell_type": "code",
      "metadata": {
        "id": "oN-jtPHe0VKz",
        "colab_type": "code",
        "colab": {
          "base_uri": "https://localhost:8080/",
          "height": 34
        },
        "outputId": "34bf60e2-5dce-412a-8e15-25f19b89505e"
      },
      "source": [
        "df.shape"
      ],
      "execution_count": 3,
      "outputs": [
        {
          "output_type": "execute_result",
          "data": {
            "text/plain": [
              "(541909, 8)"
            ]
          },
          "metadata": {
            "tags": []
          },
          "execution_count": 3
        }
      ]
    },
    {
      "cell_type": "code",
      "metadata": {
        "id": "jJmozJlf1Aze",
        "colab_type": "code",
        "colab": {
          "base_uri": "https://localhost:8080/",
          "height": 173
        },
        "outputId": "32dff5a5-f1cd-4037-e721-5dd6273e938b"
      },
      "source": [
        "#Check nan data\n",
        "df.isnull().sum()"
      ],
      "execution_count": 4,
      "outputs": [
        {
          "output_type": "execute_result",
          "data": {
            "text/plain": [
              "InvoiceNo           0\n",
              "StockCode           0\n",
              "Description      1454\n",
              "Quantity            0\n",
              "InvoiceDate         0\n",
              "UnitPrice           0\n",
              "CustomerID     135080\n",
              "Country             0\n",
              "dtype: int64"
            ]
          },
          "metadata": {
            "tags": []
          },
          "execution_count": 4
        }
      ]
    },
    {
      "cell_type": "code",
      "metadata": {
        "id": "1ZrVo84f2OmJ",
        "colab_type": "code",
        "colab": {
          "base_uri": "https://localhost:8080/",
          "height": 173
        },
        "outputId": "b78fc5fc-a753-4280-d066-2fc65bd9b19f"
      },
      "source": [
        "# Drop null data\n",
        "df.dropna(inplace=True)\n",
        "df.isnull().sum()"
      ],
      "execution_count": 5,
      "outputs": [
        {
          "output_type": "execute_result",
          "data": {
            "text/plain": [
              "InvoiceNo      0\n",
              "StockCode      0\n",
              "Description    0\n",
              "Quantity       0\n",
              "InvoiceDate    0\n",
              "UnitPrice      0\n",
              "CustomerID     0\n",
              "Country        0\n",
              "dtype: int64"
            ]
          },
          "metadata": {
            "tags": []
          },
          "execution_count": 5
        }
      ]
    },
    {
      "cell_type": "code",
      "metadata": {
        "id": "mZhbpw2PSUUL",
        "colab_type": "code",
        "colab": {
          "base_uri": "https://localhost:8080/",
          "height": 104
        },
        "outputId": "982604d3-8402-4a75-b9bd-89502f7b2f0e"
      },
      "source": [
        "#Get just Product ID and Description\n",
        "products = df[[\"StockCode\", \"Description\"]]\n",
        "\n",
        "# Drop duplicates\n",
        "products.drop_duplicates(inplace=True, subset='StockCode', keep=\"last\")\n",
        "\n",
        "# create product-ID and product-description dictionary\n",
        "products_dict = products.groupby('StockCode')['Description'].apply(list).to_dict()"
      ],
      "execution_count": 6,
      "outputs": [
        {
          "output_type": "stream",
          "text": [
            "/usr/local/lib/python3.6/dist-packages/ipykernel_launcher.py:5: SettingWithCopyWarning: \n",
            "A value is trying to be set on a copy of a slice from a DataFrame\n",
            "\n",
            "See the caveats in the documentation: https://pandas.pydata.org/pandas-docs/stable/user_guide/indexing.html#returning-a-view-versus-a-copy\n",
            "  \"\"\"\n"
          ],
          "name": "stderr"
        }
      ]
    },
    {
      "cell_type": "code",
      "metadata": {
        "id": "Wvr77qNr2yKh",
        "colab_type": "code",
        "colab": {}
      },
      "source": [
        "#Change to string domain\n",
        "df['StockCode'] = df['StockCode'].astype(str)"
      ],
      "execution_count": 7,
      "outputs": []
    },
    {
      "cell_type": "code",
      "metadata": {
        "id": "SLGQA2VZ3lpc",
        "colab_type": "code",
        "colab": {
          "base_uri": "https://localhost:8080/",
          "height": 34
        },
        "outputId": "055297e1-d9c3-49f5-d8c5-f07de56b6cb6"
      },
      "source": [
        "#Create a Customer list with all ID's\n",
        "customers = df[\"CustomerID\"].unique().tolist()\n",
        "len(customers)"
      ],
      "execution_count": 8,
      "outputs": [
        {
          "output_type": "execute_result",
          "data": {
            "text/plain": [
              "4372"
            ]
          },
          "metadata": {
            "tags": []
          },
          "execution_count": 8
        }
      ]
    },
    {
      "cell_type": "code",
      "metadata": {
        "id": "MvRoZx2wHOXv",
        "colab_type": "code",
        "colab": {}
      },
      "source": [
        "import random\n",
        "random.shuffle(customers)"
      ],
      "execution_count": 9,
      "outputs": []
    },
    {
      "cell_type": "code",
      "metadata": {
        "id": "Kq6yEiaQJIjr",
        "colab_type": "code",
        "colab": {}
      },
      "source": [
        "# Split the dataset to train (90%) and test(10%)\n",
        "train_size = int(0.9 * len(customers))\n",
        "\n",
        "customers_train = customers[:train_size]\n",
        "customers_val = customers[train_size:len(customers)]\n",
        "\n",
        "df_train = df[df['CustomerID'].isin(customers_train)]\n",
        "df_val = df[df['CustomerID'].isin(customers_val)]"
      ],
      "execution_count": 10,
      "outputs": []
    },
    {
      "cell_type": "code",
      "metadata": {
        "id": "Cp8qT1FJKPY2",
        "colab_type": "code",
        "colab": {}
      },
      "source": [
        "def compile_orders(customers, df):\n",
        "  orders = []\n",
        "  for customer in customers:\n",
        "    order = df[df['CustomerID'] == customer]['StockCode'].tolist()\n",
        "    orders.append(order)\n",
        "  return orders"
      ],
      "execution_count": 11,
      "outputs": []
    },
    {
      "cell_type": "code",
      "metadata": {
        "id": "CaIkbOMiM2ne",
        "colab_type": "code",
        "colab": {}
      },
      "source": [
        "#Create the train and validation lists\n",
        "orders_train = compile_orders(customers_train, df_train)\n",
        "orders_val = compile_orders(customers_val, df_val)"
      ],
      "execution_count": 12,
      "outputs": []
    },
    {
      "cell_type": "code",
      "metadata": {
        "id": "JqnUDPgZOt2e",
        "colab_type": "code",
        "colab": {}
      },
      "source": [
        "#Load GENSIM\n",
        "import gensim \n",
        "from gensim.models import Word2Vec "
      ],
      "execution_count": 13,
      "outputs": []
    },
    {
      "cell_type": "code",
      "metadata": {
        "id": "o2QvWI7VQXbu",
        "colab_type": "code",
        "colab": {}
      },
      "source": [
        "#@brief: This class is a search engine for shopping list\n",
        "#receiving a shopping list as input, the class predict the most similar\n",
        "#products that the consumer usually buy\n",
        "class searchEngine_v1():\n",
        "  def __init__(self, products_dict):\n",
        "    self.products = (products_dict.copy())\n",
        "\n",
        "  #@brief: This method compute the Word2Vec model\n",
        "  #@param: dataset is the train data \n",
        "  def compute(self, dataset):\n",
        "    print(\"Creating model Word2Vec\")\n",
        "    # Create CBOW model \n",
        "    self.model1 = gensim.models.Word2Vec(dataset, min_count = 1,  size = 100, window = 5)\n",
        "    # Create Skip Gram model \n",
        "    #self.model2 = gensim.models.Word2Vec(dataset, min_count = 1, size = 100, window = 5, sg = 1) \n",
        "    print(\"Model created!\")\n",
        "\n",
        "  #@brief: This method receive a product ID and makes a prediction of most \n",
        "  #similar products related to this one\n",
        "  #@param: IDprodc is a number ex: 22345\n",
        "  def predict(self, IDprod):\n",
        "    #Get the most similar products\n",
        "    mostSimilar = self.model1.wv.most_similar(IDprod)\n",
        "   \n",
        "    #Walk through the most similar, find and show the description\n",
        "    print(\"---- Predictions ----\")\n",
        "    for e,p in enumerate(mostSimilar):\n",
        "      try:\n",
        "        cod = int(p[0])\n",
        "      except:\n",
        "        cod = p[0]\n",
        "\n",
        "      pd = self.findProduct(cod)\n",
        "      print(\"[%d]\"%(e),\"Similarity:\", round(p[1],3), \"| Product Code: \", p[0], \" | Desc: \", pd )\n",
        "\n",
        "  #@brief: Auxiliary method used to find the product description\n",
        "  #@param: prod is a single code from a product a.k.a '232132'\n",
        "  def findProduct(self, prod):\n",
        "    try:\n",
        "      cod = int(prod)\n",
        "    except:\n",
        "      cod = str(prod)\n",
        "    \n",
        "    if(cod in self.products):\n",
        "      #print(\"Product:\", self.products[cod], \"Code:\",cod)\n",
        "      return self.products[cod]\n",
        "    else:\n",
        "      #print(\"Invalid Product Code \")\n",
        "      return \"Not found\"      \n",
        "\n",
        "  #@brief: Auxiliary method used to show the product description\n",
        "  #@param: IDproducts is a product ID ex. 223131\n",
        "  def showProduct(self, IDproduct):\n",
        "    try:\n",
        "      cod = int(IDproduct)\n",
        "    except:\n",
        "      cod = str(IDproduct)\n",
        "\n",
        "    if(cod in self.products):\n",
        "      print(\"Product:\", self.products[cod])\n",
        "    else:\n",
        "      print(\"Invalid Product Code \")"
      ],
      "execution_count": 14,
      "outputs": []
    },
    {
      "cell_type": "code",
      "metadata": {
        "id": "RZ-SuBiZZWsz",
        "colab_type": "code",
        "colab": {}
      },
      "source": [
        "import numpy as np\n",
        "#@brief: This class is a search engine for shopping list\n",
        "#receiving a shopping list as input, the class predict the most similar\n",
        "#products that the consumer usually buy\n",
        "class searchEngine_v2():\n",
        "  def __init__(self, products_dict):\n",
        "    self.products = dict(products_dict.copy())\n",
        "\n",
        "  #@brief: This method compute the Word2Vec model\n",
        "  #@param: dataset is the train data \n",
        "  def compute(self, dataset):\n",
        "    print(\"Creating model Word2Vec\")\n",
        "    # Create CBOW model \n",
        "    self.model1 = gensim.models.Word2Vec(dataset, min_count = 1,  size = 100, window = 5)\n",
        "    # Create Skip Gram model \n",
        "    #self.model2 = gensim.models.Word2Vec(dataset, min_count = 1, size = 100, window = 5, sg = 1) \n",
        "    print(\"Model created!\")\n",
        "\n",
        "  #@brief: This method receive the products ID's and get all the similarity\n",
        "  #vectors, plus get the resultant vector of all of them\n",
        "  #@param: IDprods is a list with x ID products\n",
        "  def getVectors(self, IDprods):\n",
        "    vectors = []\n",
        "    self.IDprods = IDprods\n",
        "    #Walk through all the products\n",
        "    for ID in self.IDprods:\n",
        "      #Get the Array from each vector\n",
        "      v = self.model1.wv[ID]\n",
        "      #Append to a list\n",
        "      vectors.append(v)\n",
        "    \n",
        "    #Walk through the vectors\n",
        "    sv = np.zeros(100)\n",
        "    for v in vectors:\n",
        "      #Sum each component of the vector\n",
        "      sv += v\n",
        "    #Get the resultant vector\n",
        "    self.rVector = sv/len(self.IDprods)\n",
        "\n",
        "    #self.predict(self.rVector)\n",
        "    return self.rVector\n",
        "    \n",
        "  #@brief: This method receive a similarity vector and makes a prediction\n",
        "  #@param: vector is an similarity vector, usually a resultant of more vectors\n",
        "  def predict(self, vector):\n",
        "    #Get the most similars products based on the resultant vector\n",
        "    mostSimilar = self.model1.similar_by_vector(vector)\n",
        "\n",
        "    #Walk through the most similars products and show the code, description\n",
        "    #and similarity\n",
        "    print(\"---- Predictions ----\")\n",
        "    for e,p in enumerate(mostSimilar):\n",
        "      try:\n",
        "        cod = int(p[0])\n",
        "      except:\n",
        "        cod = p[0]\n",
        "\n",
        "      pd = self.findProduct(cod)\n",
        "      #print(cod)\n",
        "      #print(self.IDprods)\n",
        "      if(str(cod) in self.IDprods):\n",
        "        print(\"[%d]\"%(e),\"Code:\",cod,\"Already on the original list\")\n",
        "      else:\n",
        "        print(\"[%d]\"%(e),\"Similarity:\", round(p[1],3), \"| Product Code: \", p[0], \" | Desc: \", pd )\n",
        "\n",
        "  #@brief: Auxiliary method used to find the product description\n",
        "  #@param: prod is a single code from a product a.k.a '232132'\n",
        "  def findProduct(self, prod):\n",
        "    try:\n",
        "      cod = int(prod)\n",
        "    except:\n",
        "      cod = str(prod)\n",
        "    \n",
        "    if(cod in self.products):\n",
        "      #print(\"Product:\", self.products[cod], \"Code:\",cod)\n",
        "      return self.products[cod]\n",
        "    else:\n",
        "      #print(\"Invalid Product Code \")\n",
        "      return \"Not found\"      \n",
        "\n",
        "  #@brief: Auxiliary method used to show the product description\n",
        "  #@param: IDproducts is a list with x products ID\n",
        "  def showProduct(self, IDproducts):\n",
        "    print(\"--- Shopping list ---- \")\n",
        "    \n",
        "    for p in IDproducts:\n",
        "      try:\n",
        "        cod = int(p)\n",
        "      except:\n",
        "        cod = str(p)\n",
        "\n",
        "      if(cod in self.products):\n",
        "        print(\"Product:\", self.products[cod], \"Code:\",cod)\n",
        "      else:\n",
        "        print(\"Invalid Product Code \")"
      ],
      "execution_count": 15,
      "outputs": []
    },
    {
      "cell_type": "code",
      "metadata": {
        "id": "d6deloKxukgj",
        "colab_type": "code",
        "colab": {
          "base_uri": "https://localhost:8080/",
          "height": 52
        },
        "outputId": "d91015d4-9b6a-40bc-ac2c-304876191f82"
      },
      "source": [
        "#Create the object\n",
        "s = searchEngine_v1(products_dict)\n",
        "print(products_dict['84898F'])\n",
        "s.showProduct('23055')"
      ],
      "execution_count": 16,
      "outputs": [
        {
          "output_type": "stream",
          "text": [
            "['YELLOW FLOWERS FELT HANDBAG KIT']\n",
            "Product: ['IVORY CHANDELIER T-LIGHT HOLDER']\n"
          ],
          "name": "stdout"
        }
      ]
    },
    {
      "cell_type": "markdown",
      "metadata": {
        "id": "4oDng_9fpZrd",
        "colab_type": "text"
      },
      "source": [
        "###### ---- EXPERIMENT 1 --- ########\n",
        "##### USING SEARCH ENGINE V1 WITH ONLY ONE PRODUCT"
      ]
    },
    {
      "cell_type": "code",
      "metadata": {
        "id": "FUiSiMehRZi7",
        "colab_type": "code",
        "colab": {
          "base_uri": "https://localhost:8080/",
          "height": 69
        },
        "outputId": "5502da38-eeb5-4b31-b587-a1780c35d877"
      },
      "source": [
        "#Create the object\n",
        "s = searchEngine_v1(products_dict)\n",
        "#Add the product to test\n",
        "prod = (orders_train[0][1])\n",
        "prod = int(prod)\n",
        "#Show the product added with the description\n",
        "s.showProduct(prod)\n",
        "#Create the W2V model\n",
        "s.compute(orders_train)"
      ],
      "execution_count": 17,
      "outputs": [
        {
          "output_type": "stream",
          "text": [
            "Product: ['BOTTLE BAG RETROSPOT ']\n",
            "Creating model Word2Vec\n",
            "Model created!\n"
          ],
          "name": "stdout"
        }
      ]
    },
    {
      "cell_type": "code",
      "metadata": {
        "id": "v3UNzbxzULfV",
        "colab_type": "code",
        "colab": {
          "base_uri": "https://localhost:8080/",
          "height": 243
        },
        "outputId": "f19b5460-d58b-4e81-b8c4-ef72be00004b"
      },
      "source": [
        "#Makes a prediction\n",
        "prod = orders_train[0][1]\n",
        "s.predict(prod)"
      ],
      "execution_count": 18,
      "outputs": [
        {
          "output_type": "stream",
          "text": [
            "---- Predictions ----\n",
            "[0] Similarity: 0.964 | Product Code:  21033  | Desc:  ['JUMBO BAG CHARLIE AND LOLA TOYS']\n",
            "[1] Similarity: 0.951 | Product Code:  22381  | Desc:  ['TOY TIDY PINK POLKADOT']\n",
            "[2] Similarity: 0.942 | Product Code:  85099F  | Desc:  ['JUMBO BAG STRAWBERRY']\n",
            "[3] Similarity: 0.94 | Product Code:  20711  | Desc:  ['JUMBO BAG TOYS ']\n",
            "[4] Similarity: 0.937 | Product Code:  22379  | Desc:  ['RECYCLING BAG RETROSPOT ']\n",
            "[5] Similarity: 0.937 | Product Code:  20717  | Desc:  ['STRAWBERRY SHOPPER BAG']\n",
            "[6] Similarity: 0.922 | Product Code:  22378  | Desc:  ['WALL TIDY RETROSPOT ']\n",
            "[7] Similarity: 0.92 | Product Code:  20716  | Desc:  ['PARTY FOOD SHOPPER BAG']\n",
            "[8] Similarity: 0.92 | Product Code:  22663  | Desc:  ['JUMBO BAG DOLLY GIRL DESIGN']\n",
            "[9] Similarity: 0.916 | Product Code:  20731  | Desc:  ['POSY CANDY BAG']\n"
          ],
          "name": "stdout"
        },
        {
          "output_type": "stream",
          "text": [
            "/usr/local/lib/python3.6/dist-packages/gensim/matutils.py:737: FutureWarning: Conversion of the second argument of issubdtype from `int` to `np.signedinteger` is deprecated. In future, it will be treated as `np.int64 == np.dtype(int).type`.\n",
            "  if np.issubdtype(vec.dtype, np.int):\n"
          ],
          "name": "stderr"
        }
      ]
    },
    {
      "cell_type": "markdown",
      "metadata": {
        "id": "zQv38SPDpnb8",
        "colab_type": "text"
      },
      "source": [
        "###### ---- EXPERIMENT 2 --- ########\n",
        "##### USING SEARCH ENGINE V2 WITH A SHOPPING LIST"
      ]
    },
    {
      "cell_type": "code",
      "metadata": {
        "id": "-uZ0L9klZWKK",
        "colab_type": "code",
        "colab": {
          "base_uri": "https://localhost:8080/",
          "height": 156
        },
        "outputId": "eae6aa07-9f01-4d90-e449-fc4d4c2ca189"
      },
      "source": [
        "#Create the object\n",
        "s2 = searchEngine_v2(products_dict)\n",
        "#Add the product to test\n",
        "prod = orders_train[0][0:5]\n",
        "#Show the products added with the description\n",
        "s2.showProduct(prod)\n",
        "#Create the W2V model\n",
        "s2.compute(orders_train)"
      ],
      "execution_count": 19,
      "outputs": [
        {
          "output_type": "stream",
          "text": [
            "--- Shopping list ---- \n",
            "Product: ['HIPPY CHIC DECORATIVE PARASOL'] Code: 21631\n",
            "Product: ['BOTTLE BAG RETROSPOT '] Code: 22377\n",
            "Product: ['TV DINNER TRAY VINTAGE PAISLEY'] Code: 22473\n",
            "Product: ['BLACK AND WHITE CAT BOWL'] Code: 22702\n",
            "Product: ['BLACK AND WHITE DOG BOWL'] Code: 22700\n",
            "Creating model Word2Vec\n",
            "Model created!\n"
          ],
          "name": "stdout"
        }
      ]
    },
    {
      "cell_type": "code",
      "metadata": {
        "id": "BFlD5XZNdy4y",
        "colab_type": "code",
        "colab": {}
      },
      "source": [
        "#Get the resulting vector of this test\n",
        "prod = orders_train[0][0:5]\n",
        "vector = s2.getVectors(prod)"
      ],
      "execution_count": 20,
      "outputs": []
    },
    {
      "cell_type": "code",
      "metadata": {
        "id": "r2uUu-fBsxXj",
        "colab_type": "code",
        "colab": {
          "base_uri": "https://localhost:8080/",
          "height": 260
        },
        "outputId": "436f51d8-cf23-45dd-e5f2-b500eccb82bd"
      },
      "source": [
        "#Makes a prediction\n",
        "s2.predict(vector)"
      ],
      "execution_count": 21,
      "outputs": [
        {
          "output_type": "stream",
          "text": [
            "---- Predictions ----\n",
            "[0] Similarity: 0.955 | Product Code:  84725  | Desc:  ['FREESTYLE CANVAS ART PICTURE']\n",
            "[1] Similarity: 0.951 | Product Code:  84592  | Desc:  ['CROCHET ROSE PURSE WITH SUEDE BACK']\n",
            "[2] Similarity: 0.949 | Product Code:  84313B  | Desc:  ['BLUE TV TRAY TABLE ']\n",
            "[3] Similarity: 0.948 | Product Code:  78124  | Desc:  ['MAGAZINE RACK GEBRA ASSORTED ']\n",
            "[4] Similarity: 0.947 | Product Code:  84563B  | Desc:  ['BLUE & WHITE BREAKFAST TRAY']\n",
            "[5] Similarity: 0.947 | Product Code:  79336  | Desc:  ['LIGHT PINK FLOCK GLASS CANDLEHOLDER']\n",
            "[6] Code: 21631 Already on the original list\n",
            "[7] Similarity: 0.944 | Product Code:  84912A  | Desc:  ['PINK ROSE WASHBAG']\n",
            "[8] Similarity: 0.942 | Product Code:  79164  | Desc:  ['BLACK WINE GLASS']\n",
            "[9] Similarity: 0.942 | Product Code:  46118  | Desc:  ['FUNKY MONKEY CUSHION COVER']\n"
          ],
          "name": "stdout"
        },
        {
          "output_type": "stream",
          "text": [
            "/usr/local/lib/python3.6/dist-packages/ipykernel_launcher.py:47: DeprecationWarning: Call to deprecated `similar_by_vector` (Method will be removed in 4.0.0, use self.wv.similar_by_vector() instead).\n",
            "/usr/local/lib/python3.6/dist-packages/gensim/matutils.py:737: FutureWarning: Conversion of the second argument of issubdtype from `int` to `np.signedinteger` is deprecated. In future, it will be treated as `np.int64 == np.dtype(int).type`.\n",
            "  if np.issubdtype(vec.dtype, np.int):\n"
          ],
          "name": "stderr"
        }
      ]
    },
    {
      "cell_type": "markdown",
      "metadata": {
        "id": "zelV_K3Rpxy-",
        "colab_type": "text"
      },
      "source": [
        "###### ---- EXPERIMENT 3 --- ########\n",
        "##### USING SEARCH ENGINE V1 WITH VALIDATION DATA - ONLY ONE PRODUCT"
      ]
    },
    {
      "cell_type": "code",
      "metadata": {
        "id": "SKFtcsjMO40W",
        "colab_type": "code",
        "colab": {
          "base_uri": "https://localhost:8080/",
          "height": 52
        },
        "outputId": "7835b3e7-9e18-4e85-fb86-267820fbb661"
      },
      "source": [
        "#Create the object\n",
        "s = searchEngine_v1(products_dict)\n",
        "#Create the W2V model\n",
        "s.compute(orders_train)"
      ],
      "execution_count": 22,
      "outputs": [
        {
          "output_type": "stream",
          "text": [
            "Creating model Word2Vec\n",
            "Model created!\n"
          ],
          "name": "stdout"
        }
      ]
    },
    {
      "cell_type": "code",
      "metadata": {
        "id": "8CdTGJGEqFrm",
        "colab_type": "code",
        "colab": {
          "base_uri": "https://localhost:8080/",
          "height": 330
        },
        "outputId": "3a0ea4be-96d3-4913-8e3e-b10ef823cdb1"
      },
      "source": [
        "#Makes a prediction\n",
        "#Generate random positions to feed the array\n",
        "n1 = int(np.random.randint(len(orders_val),size=1))\n",
        "n2 = int(np.random.randint(len(orders_val[n1]),size=1))\n",
        "print(\"from Shopping List: %d - Prod: %d\"%(n1,n2))\n",
        "#Get the related product based on the random index\n",
        "prod = orders_val[n1][n2]\n",
        "s.showProduct(prod)\n",
        "#Get the most similar products\n",
        "print(\"\\n\\n\")\n",
        "s.predict(prod)"
      ],
      "execution_count": 23,
      "outputs": [
        {
          "output_type": "stream",
          "text": [
            "from Shopping List: 225 - Prod: 3\n",
            "Product: ['PACK 3 BOXES BIRD PANETTONE ']\n",
            "\n",
            "\n",
            "\n",
            "---- Predictions ----\n",
            "[0] Similarity: 0.921 | Product Code:  22651  | Desc:  ['GENTLEMAN SHIRT REPAIR KIT ']\n",
            "[1] Similarity: 0.921 | Product Code:  85178  | Desc:  ['VICTORIAN SEWING KIT']\n",
            "[2] Similarity: 0.92 | Product Code:  85176  | Desc:  ['SEWING SUSAN 21 NEEDLE SET']\n",
            "[3] Similarity: 0.912 | Product Code:  23559  | Desc:  ['WOODLAND BUNNIES LOLLY MAKERS']\n",
            "[4] Similarity: 0.906 | Product Code:  22584  | Desc:  ['PACK OF 6 PANETTONE GIFT BOXES']\n",
            "[5] Similarity: 0.905 | Product Code:  23392  | Desc:  ['SPACEBOY ROCKET LOLLY MAKERS']\n",
            "[6] Similarity: 0.901 | Product Code:  22453  | Desc:  ['MEASURING TAPE BABUSHKA BLUE']\n",
            "[7] Similarity: 0.886 | Product Code:  22493  | Desc:  ['PAINT YOUR OWN CANVAS SET']\n",
            "[8] Similarity: 0.883 | Product Code:  22582  | Desc:  ['PACK OF 6 SWEETIE GIFT BOXES']\n",
            "[9] Similarity: 0.881 | Product Code:  10135  | Desc:  ['COLOURING PENCILS BROWN TUBE']\n"
          ],
          "name": "stdout"
        },
        {
          "output_type": "stream",
          "text": [
            "/usr/local/lib/python3.6/dist-packages/gensim/matutils.py:737: FutureWarning: Conversion of the second argument of issubdtype from `int` to `np.signedinteger` is deprecated. In future, it will be treated as `np.int64 == np.dtype(int).type`.\n",
            "  if np.issubdtype(vec.dtype, np.int):\n"
          ],
          "name": "stderr"
        }
      ]
    },
    {
      "cell_type": "markdown",
      "metadata": {
        "id": "p6FPD4MBp23k",
        "colab_type": "text"
      },
      "source": [
        "###### ---- EXPERIMENT 4 --- ########\n",
        "##### USING SEARCH ENGINE V2 WITH VALIDATION DATA - SHOPPING LIST"
      ]
    },
    {
      "cell_type": "code",
      "metadata": {
        "id": "NE4-9QsAr2_q",
        "colab_type": "code",
        "colab": {
          "base_uri": "https://localhost:8080/",
          "height": 52
        },
        "outputId": "9c927979-db97-416a-ee8b-2c297a31e531"
      },
      "source": [
        "#Create the object\n",
        "s2 = searchEngine_v2(products_dict)\n",
        "#Create the W2V model\n",
        "s2.compute(orders_train)\n"
      ],
      "execution_count": 24,
      "outputs": [
        {
          "output_type": "stream",
          "text": [
            "Creating model Word2Vec\n",
            "Model created!\n"
          ],
          "name": "stdout"
        }
      ]
    },
    {
      "cell_type": "code",
      "metadata": {
        "id": "h_Ln_2Lpr9Y-",
        "colab_type": "code",
        "colab": {
          "base_uri": "https://localhost:8080/",
          "height": 1000
        },
        "outputId": "34b96227-211a-4627-e748-3f3208af8c00"
      },
      "source": [
        "#Add the shopping list\n",
        "#Generate random positions to feed the array\n",
        "n1 = int(np.random.randint(len(orders_val),size=1))\n",
        "print(\"Using Shopping List: %d\"%(n1))\n",
        "prod = orders_val[n1]\n",
        "vector = s2.getVectors(prod)\n",
        "#show the shopping list\n",
        "#prod = np.asarray(prod, dtype=int)\n",
        "s2.showProduct(prod)\n",
        "print(\"\\n\")\n",
        "#Make a prediction based on the resulting vector\n",
        "s2.predict(vector)"
      ],
      "execution_count": 25,
      "outputs": [
        {
          "output_type": "stream",
          "text": [
            "Using Shopping List: 383\n",
            "--- Shopping list ---- \n",
            "Product: ['EGG FRYING PAN RED '] Code: 23338\n",
            "Product: ['FAMILY ALBUM WHITE PICTURE FRAME'] Code: 22169\n",
            "Product: ['SMALL PARISIENNE HEART PHOTO FRAME '] Code: 23093\n",
            "Product: ['HEART CALCULATOR'] Code: 20985\n",
            "Product: ['WOODEN FRAME ANTIQUE WHITE '] Code: 82494L\n",
            "Product: ['WOODEN PICTURE FRAME WHITE FINISH'] Code: 82482\n",
            "Product: ['MINIATURE ANTIQUE ROSE HOOK IVORY'] Code: 23148\n",
            "Product: ['EDWARDIAN HEART PHOTO FRAME'] Code: 23070\n",
            "Product: ['AGED GLASS SILVER T-LIGHT HOLDER'] Code: 21326\n",
            "Product: ['VICTORIAN GLASS HANGING T-LIGHT'] Code: 22178\n",
            "Product: ['FRENCH LAVENDER SCENT HEART'] Code: 21391\n",
            "Product: ['LARGE WHITE HEART OF WICKER'] Code: 23322\n",
            "Product: ['SMALL WHITE HEART OF WICKER'] Code: 23321\n",
            "Product: ['EMBOSSED GLASS TEALIGHT HOLDER'] Code: 22460\n",
            "Product: ['T-LIGHT HOLDER SWEETHEART HANGING'] Code: 22789\n",
            "Product: ['EMBOSSED GLASS TEALIGHT HOLDER'] Code: 22460\n",
            "Product: ['GLASS BON BON JAR'] Code: 23089\n",
            "Product: ['SET/5 RED RETROSPOT LID GLASS BOWLS'] Code: 20914\n",
            "Product: ['SET OF 3 NOTEBOOKS IN PARCEL'] Code: 22759\n",
            "Product: ['FRENCH LAVENDER SCENT HEART'] Code: 21391\n",
            "Product: ['BLACK TEA,COFFEE,SUGAR JARS'] Code: 85159A\n",
            "Product: ['T-LIGHT HOLDER SWEETHEART HANGING'] Code: 22789\n",
            "Product: ['HANGING PHOTO CLIP ROPE LADDER'] Code: 47480\n",
            "Product: ['TRIPLE PHOTO FRAME CORNICE '] Code: 22767\n",
            "Product: ['PLACE SETTING WHITE HEART'] Code: 22151\n",
            "Product: ['MINIATURE ANTIQUE ROSE HOOK IVORY'] Code: 23148\n",
            "Product: ['FILIGRIS HEART WITH BUTTERFLY'] Code: 21390\n",
            "Product: ['3 HOOK PHOTO SHELF ANTIQUE WHITE'] Code: 22171\n",
            "Product: ['SMALL WHITE HEART OF WICKER'] Code: 23321\n",
            "Product: ['REX CASH+CARRY JUMBO SHOPPER'] Code: 21034\n",
            "Product: ['CALENDAR PAPER CUT DESIGN'] Code: 22904\n",
            "Product: ['SET/20 RED RETROSPOT PAPER NAPKINS '] Code: 21080\n",
            "Product: ['SET/20 STRAWBERRY PAPER NAPKINS '] Code: 21078\n",
            "Product: ['RED HANGING HEART T-LIGHT HOLDER'] Code: 21733\n",
            "Product: ['S/2 ZINC HEART DESIGN PLANTERS'] Code: 84974\n",
            "Product: ['CREAM HANGING HEART T-LIGHT HOLDER'] Code: 85123A\n",
            "Product: ['LADS ONLY TISSUE BOX'] Code: 22095\n",
            "Product: ['RED RETROSPOT OVEN GLOVE DOUBLE'] Code: 21041\n",
            "Product: ['RIDGED GLASS FINGER BOWL'] Code: 21654\n",
            "Product: ['SMALL DOLLY MIX DESIGN ORANGE BOWL'] Code: 84596B\n",
            "Product: ['RED RETROSPOT BOWL'] Code: 20676\n",
            "Product: ['RED DINER WALL CLOCK'] Code: 22193\n",
            "Product: ['HOME SWEET HOME METAL SIGN '] Code: 21164\n",
            "Product: ['GARAGE KEY FOB'] Code: 21899\n",
            "Product: ['RED FLOCK LOVE HEART PHOTO FRAME'] Code: 20832\n",
            "Product: ['RED SPOTTY BISCUIT TIN'] Code: 21218\n",
            "Product: ['RED RETROSPOT TISSUE BOX'] Code: 22094\n",
            "Product: ['REX CASH+CARRY JUMBO SHOPPER'] Code: 21034\n",
            "Product: ['RECIPE BOX RETROSPOT '] Code: 22667\n",
            "Product: ['RECIPE BOX BLUE SKETCHBOOK DESIGN'] Code: 22665\n",
            "Product: ['MEMO BOARD RETROSPOT  DESIGN'] Code: 22507\n",
            "Product: ['DOORMAT HEARTS'] Code: 48194\n",
            "Product: ['PANTRY MAGNETIC  SHOPPING LIST'] Code: 23198\n",
            "Product: ['KNEELING MAT HOUSEWORK  DESIGN'] Code: 23302\n",
            "Product: ['ZINC HEARTS PLANT POT HOLDER'] Code: 23106\n",
            "Product: ['ETCHED GLASS COASTER'] Code: 21294\n",
            "Product: ['JAM CLOCK MAGNET'] Code: 23178\n",
            "Product: ['SMALL DOLLY MIX DESIGN ORANGE BOWL'] Code: 84596B\n",
            "Product: ['SMALL CHOCOLATES PINK BOWL'] Code: 84596G\n",
            "Product: ['SWALLOW SQUARE TISSUE BOX'] Code: 22097\n",
            "Product: ['RECIPE BOX PANTRY YELLOW DESIGN'] Code: 22666\n",
            "Product: ['SET/5 RED RETROSPOT LID GLASS BOWLS'] Code: 20914\n",
            "Product: ['HEART OF WICKER SMALL'] Code: 22469\n",
            "Product: ['RED RETROSPOT OVEN GLOVE DOUBLE'] Code: 21041\n",
            "Product: ['SMALL WHITE HEART OF WICKER'] Code: 23321\n",
            "Product: ['ENAMEL FLOWER JUG CREAM'] Code: 22427\n",
            "Product: ['SWALLOW SQUARE TISSUE BOX'] Code: 22097\n",
            "Product: ['REX CASH+CARRY JUMBO SHOPPER'] Code: 21034\n",
            "Product: ['RED BABY BUNTING '] Code: 22669\n",
            "Product: ['PICTURE FRAME WOOD TRIPLE PORTRAIT'] Code: 22170\n",
            "Product: ['N0 SINGING METAL SIGN'] Code: 82600\n",
            "Product: ['HOT BATHS METAL SIGN'] Code: 82583\n",
            "Product: ['HAND OVER THE CHOCOLATE   SIGN '] Code: 85152\n",
            "Product: ['LADIES & GENTLEMEN METAL SIGN'] Code: 85150\n",
            "Product: ['AIRLINE LOUNGE,METAL SIGN'] Code: 82567\n",
            "Product: ['HOME SWEET HOME METAL SIGN '] Code: 21164\n",
            "Product: ['GIN AND TONIC DIET METAL SIGN'] Code: 21175\n",
            "Product: ['POTTERING IN THE SHED METAL SIGN'] Code: 21174\n",
            "Product: ['METAL SIGN DROP YOUR PANTS'] Code: 23426\n",
            "Product: ['METAL SIGN TAKE IT OR LEAVE IT '] Code: 22413\n",
            "Product: ['CHOCOLATE THIS WAY METAL SIGN'] Code: 21908\n",
            "Product: ['PLEASE ONE PERSON METAL SIGN'] Code: 21181\n",
            "Product: ['COOK WITH WINE METAL SIGN '] Code: 21166\n",
            "Product: ['OPEN CLOSED METAL SIGN'] Code: 21770\n",
            "Product: ['CREAM HANGING HEART T-LIGHT HOLDER'] Code: 85123A\n",
            "Product: ['HEART MIRROR ANTIQUE WHITE'] Code: 23412\n",
            "Product: ['ALUMINIUM STAMPED HEART'] Code: 23068\n",
            "Product: ['HANGING HEART BONHEUR'] Code: 23398\n",
            "Product: ['PHOTO FRAME LINEN AND LACE LARGE'] Code: 23409\n",
            "Product: ['PHOTO FRAME LINEN AND LACE SMALL'] Code: 23408\n",
            "Product: ['RUSTIC MIRROR WITH LACE HEART'] Code: 23401\n",
            "Product: ['HOME SWEET HOME KEY HOLDER'] Code: 23406\n",
            "Product: ['HOME SWEET HOME BLACKBOARD'] Code: 23404\n",
            "Product: ['HEART OF WICKER LARGE'] Code: 22470\n",
            "Product: ['LARGE WHITE HEART OF WICKER'] Code: 23322\n",
            "Product: ['SMALL WHITE HEART OF WICKER'] Code: 23321\n",
            "Product: ['HEART OF WICKER SMALL'] Code: 22469\n",
            "Product: ['LETTER HOLDER HOME SWEET HOME'] Code: 23403\n",
            "Product: ['SHELF WITH 4 HOOKS HOME SWEET HOME'] Code: 23400\n",
            "Product: ['WOODEN PICTURE FRAME WHITE FINISH'] Code: 82482\n",
            "Product: ['WOODEN FRAME ANTIQUE WHITE '] Code: 82494L\n",
            "Product: ['ZINC METAL HEART DECORATION'] Code: 84836\n",
            "Product: ['EMBOSSED GLASS TEALIGHT HOLDER'] Code: 22460\n",
            "Product: ['HANGING HEART JAR T-LIGHT HOLDER'] Code: 84978\n",
            "Product: ['HANGING HEART BONHEUR'] Code: 23398\n",
            "Product: ['HOME SWEET HOME HANGING HEART'] Code: 23399\n",
            "Product: ['SINGLE HEART ZINC T-LIGHT HOLDER'] Code: 84970L\n",
            "Product: ['HANGING HEART ZINC T-LIGHT HOLDER'] Code: 84970S\n",
            "Product: ['VICTORIAN GLASS HANGING T-LIGHT'] Code: 22178\n",
            "Product: ['REX CASH+CARRY JUMBO SHOPPER'] Code: 21034\n",
            "Product: ['DANISH ROSE DELUXE COASTER'] Code: 84821\n",
            "Product: ['ROUND STORAGE TIN VINTAGE LEAF'] Code: 23244\n",
            "Product: ['GARDEN PATH SKETCHBOOK'] Code: 20766\n",
            "Product: ['BUNDLE OF 3 RETRO NOTE BOOKS'] Code: 23191\n",
            "Product: ['ASSORTED COLOUR BIRD ORNAMENT'] Code: 84879\n",
            "Product: ['PAINTED METAL PEARS ASSORTED'] Code: 21136\n",
            "Product: ['VINTAGE RED ENAMEL TRIM MUG '] Code: 23251\n",
            "Product: ['VINTAGE RED ENAMEL TRIM JUG '] Code: 23252\n",
            "Product: ['FRENCH ENAMEL CANDLEHOLDER'] Code: 85053\n",
            "Product: ['GUMBALL COAT RACK'] Code: 22467\n",
            "Product: ['ASSORTED BOTTLE TOP  MAGNETS '] Code: 22915\n",
            "Product: ['SET OF 6 SPICE TINS PANTRY DESIGN'] Code: 22722\n",
            "Product: ['WOOD STAMP SET HAPPY BIRTHDAY'] Code: 22209\n",
            "Product: ['FRIDGE MAGNETS LES ENFANTS ASSORTED'] Code: 22923\n",
            "Product: ['MAGNETS PACK OF 4 VINTAGE LABELS '] Code: 22403\n",
            "Product: ['MAGNETS PACK OF 4 HOME SWEET HOME'] Code: 22400\n",
            "Product: ['MAGNETS PACK OF 4 RETRO PHOTO'] Code: 22396\n",
            "Product: ['MAGNETS PACK OF 4 VINTAGE COLLAGE'] Code: 22402\n",
            "Product: ['SET OF 6 RIBBONS VINTAGE CHRISTMAS'] Code: 22734\n",
            "Product: ['SET 12 COLOUR PENCILS SPACEBOY '] Code: 23367\n",
            "Product: ['SET 12 COLOUR PENCILS DOLLY GIRL '] Code: 23368\n",
            "Product: ['VINTAGE DOILY TRAVEL SEWING KIT'] Code: 23493\n",
            "Product: ['VINTAGE DOILY DELUXE SEWING KIT '] Code: 23494\n",
            "Product: ['EMERGENCY FIRST AID TIN '] Code: 22494\n",
            "Product: ['POPPY FIELDS CHOPPING BOARD'] Code: 23117\n",
            "Product: ['PAPER CHAIN KIT RETROSPOT'] Code: 22083\n",
            "Product: ['WOOD STAMP SET THANK YOU'] Code: 22208\n",
            "Product: ['WALL ART STOP FOR TEA '] Code: 23534\n",
            "Product: ['WALL ART VILLAGE SHOW '] Code: 23536\n",
            "Product: ['LARGE ROUND WICKER PLATTER '] Code: 21742\n",
            "Product: ['VINTAGE CHRISTMAS BUNTING'] Code: 23313\n",
            "Product: ['ADVENT CALENDAR GINGHAM SACK'] Code: 22580\n",
            "Product: ['MINIATURE ANTIQUE ROSE HOOK IVORY'] Code: 23148\n",
            "Product: ['SET 6 PAPER TABLE LANTERN HEARTS '] Code: 23082\n",
            "Product: ['SET 6 PAPER TABLE LANTERN STARS '] Code: 23083\n",
            "Product: ['3D CHRISTMAS STAMPS STICKERS '] Code: 22731\n",
            "Product: ['3D VINTAGE CHRISTMAS STICKERS '] Code: 22732\n",
            "Product: ['REX CASH+CARRY JUMBO SHOPPER'] Code: 21034\n",
            "Product: ['HANGING BAUBLE T-LIGHT HOLDER SMALL'] Code: 20893\n",
            "Product: ['VICTORIAN  METAL POSTCARD SPRING'] Code: 21135\n",
            "Product: ['15CM CHRISTMAS GLASS BALL 20 LIGHTS'] Code: 85048\n",
            "Product: ['SINGLE ANTIQUE ROSE HOOK IVORY'] Code: 23147\n",
            "Product: ['PAPER CHAIN KIT VINTAGE CHRISTMAS'] Code: 22910\n",
            "Product: [\"PAPER CHAIN KIT 50'S CHRISTMAS \"] Code: 22086\n",
            "Product: ['HOME SWEET HOME HOOK'] Code: 23415\n",
            "Product: ['BATHROOM HOOK'] Code: 23417\n",
            "Product: ['CHAMBRE HOOK'] Code: 23416\n",
            "Product: ['SET 12 RETRO WHITE CHALK STICKS'] Code: 21916\n",
            "Product: ['WOOD STAMP SET FLOWERS'] Code: 22211\n",
            "Product: ['HOME SWEET HOME BOTTLE '] Code: 23419\n",
            "Product: ['LAVENDER TOILETTE BOTTLE'] Code: 23418\n",
            "Product: ['HERB MARKER BASIL'] Code: 22920\n",
            "Product: ['HERB MARKER PARSLEY'] Code: 22918\n",
            "Product: ['HERB MARKER THYME'] Code: 22916\n",
            "Product: ['HERB MARKER ROSEMARY'] Code: 22917\n",
            "Product: ['HERB MARKER MINT'] Code: 22919\n",
            "Product: ['SWEETHEART RECIPE BOOK STAND'] Code: 22795\n",
            "Product: [\"GIANT 50'S CHRISTMAS CRACKER\"] Code: 23320\n",
            "Product: ['CHRISTMAS CRAFT WHITE FAIRY '] Code: 22142\n",
            "Product: ['CHRISTMAS CRAFT TREE TOP ANGEL'] Code: 22141\n",
            "Product: ['CHRISTMAS METAL POSTCARD WITH BELLS'] Code: 22944\n",
            "Product: ['CHRISTMAS METAL POSTCARD WITH BELLS'] Code: 22944\n",
            "Product: ['ZINC FOLKART SLEIGH BELLS'] Code: 35970\n",
            "Product: ['WICKER STAR '] Code: 22694\n",
            "Product: ['Manual'] Code: M\n",
            "Product: [\"BISCUIT TIN 50'S CHRISTMAS\"] Code: 23247\n",
            "Product: ['YELLOW COAT RACK PARIS FASHION'] Code: 22912\n",
            "Product: ['BLUE COAT RACK PARIS FASHION'] Code: 22914\n",
            "Product: ['RED COAT RACK PARIS FASHION'] Code: 22913\n",
            "Product: ['3 HEARTS HANGING DECORATION RUSTIC'] Code: 22158\n",
            "Product: ['T-LIGHT HOLDER HANGING LOVE BIRD'] Code: 23490\n",
            "Product: ['GLITTER HEART DECORATION'] Code: 21818\n",
            "Product: ['ANGEL DECORATION 3 BUTTONS '] Code: 22154\n",
            "Product: ['PLACE SETTING WHITE STAR'] Code: 22152\n",
            "Product: ['WOODEN TREE CHRISTMAS SCANDINAVIAN'] Code: 22579\n",
            "Product: ['WHITE CHRISTMAS STAR DECORATION'] Code: 21807\n",
            "Product: ['CHRISTMAS TREE STAR DECORATION'] Code: 21803\n",
            "Product: ['CHRISTMAS TREE HEART DECORATION'] Code: 21802\n",
            "Product: ['WOODEN STAR CHRISTMAS SCANDINAVIAN'] Code: 22578\n",
            "Product: ['HANGING HEART WITH BELL'] Code: 21811\n",
            "Product: ['PLACE SETTING WHITE STAR'] Code: 22152\n",
            "Product: ['GLITTER CHRISTMAS TREE'] Code: 21817\n",
            "Product: ['SET OF 3 WOODEN STOCKING DECORATION'] Code: 23266\n",
            "Product: ['WOODEN HEART CHRISTMAS SCANDINAVIAN'] Code: 22577\n",
            "Product: ['GLITTER CHRISTMAS STAR '] Code: 21819\n",
            "Product: ['PAINTED METAL HEART WITH HOLLY BELL'] Code: 21823\n",
            "Product: ['PAINTED METAL STAR WITH HOLLY BELLS'] Code: 21824\n",
            "Product: ['PLACE SETTING WHITE HEART'] Code: 22151\n",
            "Product: ['GARAGE KEY FOB'] Code: 21899\n",
            "Product: ['PLACE SETTING WHITE STAR'] Code: 22152\n",
            "Product: ['GLITTER HEART DECORATION'] Code: 21818\n",
            "Product: ['GLITTER CHRISTMAS TREE'] Code: 21817\n",
            "Product: ['SET OF 3 WOODEN TREE DECORATIONS'] Code: 23265\n",
            "Product: ['HEART DECORATION RUSTIC HANGING '] Code: 22161\n",
            "Product: ['SET OF 2 CERAMIC CHRISTMAS TREES'] Code: 23269\n",
            "Product: ['GLITTER HEART DECORATION'] Code: 21818\n",
            "Product: ['WHITE CHRISTMAS STAR DECORATION'] Code: 21807\n",
            "Product: ['SET OF 3 WOODEN TREE DECORATIONS'] Code: 23265\n",
            "Product: ['SET OF 3 WOODEN STOCKING DECORATION'] Code: 23266\n",
            "Product: ['CHRISTMAS MUSICAL ZINC STAR'] Code: 22599\n",
            "Product: ['SET OF 3 WOODEN SLEIGH DECORATIONS'] Code: 23264\n",
            "Product: ['WOODEN TREE CHRISTMAS SCANDINAVIAN'] Code: 22579\n",
            "Product: ['CHRISTMAS MUSICAL ZINC TREE'] Code: 22598\n",
            "Product: ['METAL DECORATION NAUGHTY CHILDREN '] Code: 22948\n",
            "Product: ['ANGEL DECORATION STARS ON DRESS'] Code: 22153\n",
            "Product: ['HEART STRING MEMO HOLDER HANGING'] Code: 22163\n",
            "Product: ['HANGING HEART WITH BELL'] Code: 21811\n",
            "Product: ['SET OF 2 CERAMIC CHRISTMAS TREES'] Code: 23269\n",
            "Product: ['SET OF 2 CERAMIC PAINTED HEARTS '] Code: 23270\n",
            "Product: ['SET OF 3 WOODEN SLEIGH DECORATIONS'] Code: 23264\n",
            "Product: ['SET OF 3 WOODEN TREE DECORATIONS'] Code: 23265\n",
            "Product: ['SET OF 3 WOODEN HEART DECORATIONS'] Code: 23263\n",
            "Product: ['SET OF 3 WOODEN SLEIGH DECORATIONS'] Code: 23264\n",
            "Product: ['ANTIQUE TALL SWIRLGLASS TRINKET POT'] Code: 22800\n",
            "Product: ['BLOSSOM IMAGES GIFT WRAP SET'] Code: 85032B\n",
            "Product: ['CURIOUS IMAGES GIFT WRAP SET'] Code: 85032C\n",
            "Product: ['CURIOUS IMAGES GIFT WRAP SET'] Code: 85032C\n",
            "Product: ['KEY FOB , FRONT  DOOR '] Code: 21902\n",
            "Product: ['KEY FOB , BACK DOOR '] Code: 21901\n",
            "Product: ['KEY FOB , SHED'] Code: 21900\n",
            "Product: ['CHRISTMAS HANGING STAR WITH BELL'] Code: 21810\n",
            "Product: ['HEART DECORATION RUSTIC HANGING '] Code: 22161\n",
            "Product: ['RIBBON REEL CHRISTMAS SOCK BAUBLE'] Code: 22739\n",
            "Product: ['RIBBON REEL SNOWY VILLAGE'] Code: 22738\n",
            "Product: ['WHITE CHRISTMAS STAR DECORATION'] Code: 21807\n",
            "Product: ['HANGING HEART WITH BELL'] Code: 21811\n",
            "Product: ['CHRISTMAS HANGING STAR WITH BELL'] Code: 21810\n",
            "Product: ['ANGEL DECORATION STARS ON DRESS'] Code: 22153\n",
            "Product: ['SET OF 3 WOODEN HEART DECORATIONS'] Code: 23263\n",
            "Product: ['CHRISTMAS GINGHAM TREE'] Code: 22594\n",
            "Product: ['GINGHAM HEART DECORATION'] Code: 22595\n",
            "Product: ['SET OF 3 WOODEN HEART DECORATIONS'] Code: 23263\n",
            "Product: ['HEART DECORATION RUSTIC HANGING '] Code: 22161\n",
            "Product: ['GINGHAM HEART DECORATION'] Code: 22595\n",
            "Product: ['PACK OF 20 NAPKINS PANTRY DESIGN'] Code: 22907\n",
            "Product: ['ANTIQUE GLASS DRESSING TABLE POT'] Code: 22798\n",
            "Product: ['GAOLERS KEYS DECORATIVE GARDEN '] Code: 21745\n",
            "Product: ['OVAL  MINI PORTRAIT FRAME'] Code: 23453\n",
            "Product: ['PINK HANGING HEART T-LIGHT HOLDER'] Code: 22804\n",
            "Product: ['PACK OF 20 NAPKINS PANTRY DESIGN'] Code: 22907\n",
            "Product: ['RED HANGING HEART T-LIGHT HOLDER'] Code: 21733\n",
            "Product: ['ANTIQUE GLASS DRESSING TABLE POT'] Code: 22798\n",
            "Product: ['ANTIQUE TALL SWIRLGLASS TRINKET POT'] Code: 22800\n",
            "Product: ['ZINC HERB GARDEN CONTAINER'] Code: 23091\n",
            "Product: ['LANTERN CREAM GAZEBO '] Code: 22784\n",
            "Product: ['WHITE HANGING BEADS CANDLE HOLDER'] Code: 71038\n",
            "Product: ['NATURAL SLATE CHALKBOARD LARGE '] Code: 22456\n",
            "Product: ['4 WILDFLOWER BOTANICAL CANDLES'] Code: 21618\n",
            "Product: ['SET OF 4 ROSE BOTANICAL CANDLES'] Code: 21620\n",
            "Product: ['4 PEAR BOTANICAL DINNER CANDLES'] Code: 21616\n",
            "Product: ['4 LILY  BOTANICAL DINNER CANDLES'] Code: 21617\n",
            "Product: ['4 VANILLA BOTANICAL CANDLES'] Code: 21619\n",
            "Product: ['LOVE BUILDING BLOCK WORD'] Code: 21755\n",
            "Product: ['PEACE WOODEN BLOCK LETTERS'] Code: 22119\n",
            "Product: ['HOME BUILDING BLOCK WORD'] Code: 21754\n",
            "Product: ['NOEL WOODEN BLOCK LETTERS '] Code: 22121\n",
            "Product: ['STEEL SWEETHEART ROUND TABLE CREAM'] Code: 21476\n",
            "Product: ['REX CASH+CARRY JUMBO SHOPPER'] Code: 21034\n",
            "Product: ['SET OF 2 CHRISTMAS DECOUPAGE CANDLE'] Code: 72817\n",
            "Product: ['GAOLERS KEYS DECORATIVE GARDEN '] Code: 21745\n",
            "Product: ['4 PEAR BOTANICAL DINNER CANDLES'] Code: 21616\n",
            "Product: ['SET OF 4 ROSE BOTANICAL CANDLES'] Code: 21620\n",
            "Product: ['4 VANILLA BOTANICAL CANDLES'] Code: 21619\n",
            "Product: ['4 LILY  BOTANICAL DINNER CANDLES'] Code: 21617\n",
            "Product: ['MAGIC DRAWING SLATE CIRCUS PARADE  '] Code: 22531\n",
            "Product: ['MAGIC DRAWING SLATE PURDEY'] Code: 22536\n",
            "Product: ['HANGING BAUBLE T-LIGHT HOLDER LARGE'] Code: 20894\n",
            "Product: ['SET 6 PAPER TABLE LANTERN STARS '] Code: 23083\n",
            "Product: ['WALL ART GARDEN HAVEN '] Code: 23533\n",
            "Product: ['WALL ART VILLAGE SHOW '] Code: 23536\n",
            "Product: ['BLACK PIRATE TREASURE CHEST'] Code: 22068\n",
            "Product: ['MAGIC DRAWING SLATE DINOSAUR'] Code: 22537\n",
            "Product: ['TEATIME PEN CASE & PENS'] Code: 16046\n",
            "Product: ['SET 6 PAPER TABLE LANTERN STARS '] Code: 23083\n",
            "Product: ['CHRISTMAS CRAFT LITTLE FRIENDS'] Code: 22144\n",
            "Product: ['STAR DECORATION RUSTIC'] Code: 22155\n",
            "Product: ['BLUE COAT RACK PARIS FASHION'] Code: 22914\n",
            "Product: ['MAGIC DRAWING SLATE SPACEBOY '] Code: 22534\n",
            "Product: ['12 PENCIL SMALL TUBE WOODLAND'] Code: 20973\n",
            "Product: ['KITTY PENCIL ERASERS'] Code: 16236\n",
            "Product: ['WOOD 2 DRAWER CABINET WHITE FINISH'] Code: 82483\n",
            "Product: ['TEATIME PEN CASE & PENS'] Code: 16046\n",
            "Product: ['3D TRADITIONAL CHRISTMAS STICKERS'] Code: 22733\n",
            "Product: ['PAPER CHAIN KIT VINTAGE CHRISTMAS'] Code: 22910\n",
            "Product: ['DINOSAURS  WRITING SET '] Code: 21329\n",
            "Product: ['BALLOONS  WRITING SET '] Code: 21328\n",
            "Product: ['REX CASH+CARRY JUMBO SHOPPER'] Code: 21034\n",
            "Product: ['SILVER MUG BONE CHINA TREE OF LIFE'] Code: 22306\n",
            "Product: ['CHRISTMAS DECOUPAGE CANDLE'] Code: 72818\n",
            "Product: ['SMALL PARISIENNE HEART PHOTO FRAME '] Code: 23093\n",
            "Product: ['WOODEN FRAME ANTIQUE WHITE '] Code: 82494L\n",
            "Product: ['WOODEN PICTURE FRAME WHITE FINISH'] Code: 82482\n",
            "Product: ['Bank Charges'] Code: BANK CHARGES\n",
            "Product: ['CARD HOLDER LOVE BIRD SMALL'] Code: 23469\n",
            "Product: ['CLASSIC METAL BIRDCAGE PLANT HOLDER'] Code: 21340\n",
            "Product: ['4 LILY  BOTANICAL DINNER CANDLES'] Code: 21617\n",
            "Product: ['4 PEAR BOTANICAL DINNER CANDLES'] Code: 21616\n",
            "Product: ['4 VANILLA BOTANICAL CANDLES'] Code: 21619\n",
            "Product: ['4 LAVENDER BOTANICAL DINNER CANDLES'] Code: 21615\n",
            "Product: ['SET OF 4 ROSE BOTANICAL CANDLES'] Code: 21620\n",
            "Product: ['GARAGE KEY FOB'] Code: 21899\n",
            "Product: ['KEY FOB , SHED'] Code: 21900\n",
            "Product: ['KEY FOB , FRONT  DOOR '] Code: 21902\n",
            "Product: ['ROTATING LEAVES T-LIGHT HOLDER'] Code: 21494\n",
            "Product: ['KEY FOB , BACK DOOR '] Code: 21901\n",
            "Product: ['3D VINTAGE CHRISTMAS STICKERS '] Code: 22732\n",
            "Product: ['3D TRADITIONAL CHRISTMAS STICKERS'] Code: 22733\n",
            "Product: ['DANISH ROSE DELUXE COASTER'] Code: 84821\n",
            "Product: ['PAPER BUNTING WHITE LACE'] Code: 22087\n",
            "Product: ['SET 6 PAPER TABLE LANTERN HEARTS '] Code: 23082\n",
            "Product: ['PAPER CHAIN KIT RETROSPOT'] Code: 22083\n",
            "Product: ['DANISH ROSE DELUXE COASTER'] Code: 84821\n",
            "Product: ['LA PALMIERA TILE COASTER'] Code: 84926D\n",
            "Product: ['SET 6 PAPER TABLE LANTERN HEARTS '] Code: 23082\n",
            "Product: ['ALUMINIUM STAMPED HEART'] Code: 23068\n",
            "Product: ['VINTAGE CHRISTMAS BUNTING'] Code: 23313\n",
            "Product: ['ROTATING LEAVES T-LIGHT HOLDER'] Code: 21494\n",
            "Product: ['PAPER CHAIN KIT VINTAGE CHRISTMAS'] Code: 22910\n",
            "Product: [\"PAPER CHAIN KIT 50'S CHRISTMAS \"] Code: 22086\n",
            "Product: ['GARDENERS KNEELING PAD KEEP CALM '] Code: 23301\n",
            "Product: ['OWL DOORSTOP'] Code: 21116\n",
            "Product: ['TOXIC AREA  DOOR HANGER '] Code: 21162\n",
            "Product: ['RED FLOWER CROCHET FOOD COVER'] Code: 21466\n",
            "Product: ['SET OF 3 HANGING OWLS OLLIE BEAK'] Code: 23275\n",
            "Product: ['GOLD MUG BONE CHINA TREE OF LIFE'] Code: 22307\n",
            "Product: ['WOODEN FRAME ANTIQUE WHITE '] Code: 82494L\n",
            "Product: ['ENGLISH ROSE SPIRIT LEVEL '] Code: 47504H\n",
            "Product: ['VINTAGE LEAF MAGNETIC NOTEPAD'] Code: 23196\n",
            "Product: ['SKETCHBOOK MAGNETIC SHOPPING LIST'] Code: 23197\n",
            "Product: ['SET OF 4 ROSE BOTANICAL CANDLES'] Code: 21620\n",
            "Product: ['ROTATING LEAVES T-LIGHT HOLDER'] Code: 21494\n",
            "Product: ['FLOWER FAIRY 5 DRAWER LINERS'] Code: 17107D\n",
            "Product: ['4 LAVENDER BOTANICAL DINNER CANDLES'] Code: 21615\n",
            "Product: ['SET OF 4 ROSE BOTANICAL CANDLES'] Code: 21620\n",
            "Product: ['4 LILY  BOTANICAL DINNER CANDLES'] Code: 21617\n",
            "Product: ['REX CASH+CARRY JUMBO SHOPPER'] Code: 21034\n",
            "Product: ['WOODEN HEART CHRISTMAS SCANDINAVIAN'] Code: 22577\n",
            "Product: ['WOODEN STAR CHRISTMAS SCANDINAVIAN'] Code: 22578\n",
            "Product: ['WOODEN TREE CHRISTMAS SCANDINAVIAN'] Code: 22579\n",
            "Product: ['COFFEE MUG APPLES DESIGN'] Code: 22303\n",
            "Product: ['LUNCH BAG VINTAGE DOILY '] Code: 23209\n",
            "Product: ['PACK OF 12 TRADITIONAL CRAYONS'] Code: 22489\n",
            "Product: ['WOOD STAMP SET HAPPY BIRTHDAY'] Code: 22209\n",
            "Product: ['WOOD STAMP SET BEST WISHES'] Code: 22210\n",
            "Product: ['WOOD STAMP SET FLOWERS'] Code: 22211\n",
            "Product: ['WOOD STAMP SET THANK YOU'] Code: 22208\n",
            "Product: ['WOODEN SCHOOL COLOURING SET'] Code: 22561\n",
            "Product: ['OVEN MITT APPLES DESIGN'] Code: 22897\n",
            "Product: ['RED RETROSPOT CHARLOTTE BAG'] Code: 20724\n",
            "Product: ['TRADITIONAL MODELLING CLAY'] Code: 22560\n",
            "Product: ['PACK OF 12 COLOURED PENCILS'] Code: 22491\n",
            "Product: ['PAINT YOUR OWN CANVAS SET'] Code: 22493\n",
            "Product: ['BUNDLE OF 3 SCHOOL EXERCISE BOOKS  '] Code: 23190\n",
            "Product: ['ALPHABET STENCIL CRAFT'] Code: 22564\n",
            "Product: ['MONSTERS STENCIL CRAFT'] Code: 22562\n",
            "Product: ['HAPPY STENCIL CRAFT'] Code: 22563\n",
            "Product: ['SET OF 2 TEA TOWELS APPLE AND PEARS'] Code: 22895\n",
            "Product: ['SET OF 3 REGENCY CAKE TINS'] Code: 23245\n",
            "Product: ['4 PEAR BOTANICAL DINNER CANDLES'] Code: 21616\n",
            "Product: ['SET OF 4 ROSE BOTANICAL CANDLES'] Code: 21620\n",
            "Product: ['STRAWBERRY SHOPPER BAG'] Code: 20717\n",
            "Product: ['PACK OF SIX LED TEA LIGHTS'] Code: 23109\n",
            "Product: ['SET OF 12 MINI LOAF BAKING CASES'] Code: 23295\n",
            "Product: ['LUNCH BAG PAISLEY PARK  '] Code: 23583\n",
            "Product: ['LUNCH BAG RED VINTAGE DOILY'] Code: 23681\n",
            "Product: ['WOODLAND CHARLOTTE BAG'] Code: 20719\n",
            "Product: ['CHARLOTTE BAG APPLES DESIGN'] Code: 23204\n",
            "Product: ['CHARLOTTE BAG PINK POLKADOT'] Code: 22356\n",
            "Product: ['CHARLOTTE BAG DOLLY GIRL DESIGN'] Code: 22661\n",
            "Product: ['REGENCY CAKESTAND 3 TIER'] Code: 22423\n",
            "Product: ['RED APPLES CHOPPING BOARD   '] Code: 23115\n",
            "Product: ['REX CASH+CARRY JUMBO SHOPPER'] Code: 21034\n",
            "Product: ['3 DRAWER ANTIQUE WHITE WOOD CABINET'] Code: 82486\n",
            "Product: ['VINTAGE RED ENAMEL TRIM JUG '] Code: 23252\n",
            "Product: ['FELTCRAFT PRINCESS LOLA DOLL'] Code: 22750\n",
            "Product: ['SET OF 3 CAKE TINS SKETCHBOOK'] Code: 22721\n",
            "Product: ['SET OF 3 REGENCY CAKE TINS'] Code: 23245\n",
            "Product: ['ANTIQUE ALL GLASS CANDLESTICK'] Code: 21012\n",
            "Product: ['WOOD 2 DRAWER CABINET WHITE FINISH'] Code: 82483\n",
            "Product: ['DOORMAT NEW ENGLAND'] Code: 48187\n",
            "Product: ['REX CASH+CARRY JUMBO SHOPPER'] Code: 21034\n",
            "Product: ['DOORSTOP FOOTBALL DESIGN'] Code: 22513\n",
            "Product: ['4 VANILLA BOTANICAL CANDLES'] Code: 21619\n",
            "Product: ['CHRISTMAS MUSICAL ZINC STAR'] Code: 22599\n",
            "Product: ['CHRISTMAS MUSICAL ZINC TREE'] Code: 22598\n",
            "Product: ['DOORSTOP FOOTBALL DESIGN'] Code: 22513\n",
            "Product: ['SILVER GLITTER FLOWER VOTIVE HOLDER'] Code: 85111\n",
            "Product: ['WOODEN TREE CHRISTMAS SCANDINAVIAN'] Code: 22579\n",
            "Product: ['WOODEN STAR CHRISTMAS SCANDINAVIAN'] Code: 22578\n",
            "Product: ['FOLKART ZINC HEART CHRISTMAS DEC'] Code: 35961\n",
            "Product: ['ROTATING LEAVES T-LIGHT HOLDER'] Code: 21494\n",
            "Product: ['FLOWER FAIRY 5 DRAWER LINERS'] Code: 17107D\n",
            "Product: ['KNEELING MAT HOUSEWORK  DESIGN'] Code: 23302\n",
            "Product: ['GARDENERS KNEELING PAD KEEP CALM '] Code: 23301\n",
            "Product: ['KNEELING MAT HOUSEWORK  DESIGN'] Code: 23302\n",
            "Product: ['MEMO BOARD RETROSPOT  DESIGN'] Code: 22507\n",
            "Product: ['MIRRORED WALL ART STARS'] Code: 21365\n",
            "Product: ['GIRAFFE WOODEN RULER'] Code: 22991\n",
            "Product: ['PANTRY MAGNETIC  SHOPPING LIST'] Code: 23198\n",
            "Product: ['CHILDS GARDEN FORK PINK'] Code: 22523\n",
            "Product: ['CHILDS GARDEN FORK BLUE '] Code: 22522\n",
            "Product: ['RED METAL BEACH SPADE '] Code: 21718\n",
            "Product: ['VINTAGE JINGLE BELLS HEART'] Code: 23491\n",
            "Product: ['SILVER MUG BONE CHINA TREE OF LIFE'] Code: 22306\n",
            "Product: ['Bank Charges'] Code: BANK CHARGES\n",
            "\n",
            "\n",
            "---- Predictions ----\n",
            "[0] Similarity: 0.974 | Product Code:  23060  | Desc:  ['HEART BEADED TRELLIS DECORATION']\n",
            "[1] Similarity: 0.972 | Product Code:  23466  | Desc:  ['TUSCAN VILLA DOVECOTE BIRD FEEDER']\n",
            "[2] Code: 23416 Already on the original list\n",
            "[3] Similarity: 0.963 | Product Code:  21143  | Desc:  ['ANTIQUE GLASS HEART DECORATION ']\n",
            "[4] Similarity: 0.962 | Product Code:  23482  | Desc:  ['PEARLISED IVORY HEART LARGE ']\n",
            "[5] Similarity: 0.961 | Product Code:  22157  | Desc:  ['ANGEL DECORATION WITH LACE PADDED']\n",
            "[6] Similarity: 0.959 | Product Code:  21287  | Desc:  ['SCENTED VELVET LOUNGE CANDLE ']\n",
            "[7] Code: 23106 Already on the original list\n",
            "[8] Code: 23415 Already on the original list\n",
            "[9] Similarity: 0.958 | Product Code:  21147  | Desc:  ['JINGLE BELLS TREE DECORATION']\n"
          ],
          "name": "stdout"
        },
        {
          "output_type": "stream",
          "text": [
            "/usr/local/lib/python3.6/dist-packages/ipykernel_launcher.py:47: DeprecationWarning: Call to deprecated `similar_by_vector` (Method will be removed in 4.0.0, use self.wv.similar_by_vector() instead).\n",
            "/usr/local/lib/python3.6/dist-packages/gensim/matutils.py:737: FutureWarning: Conversion of the second argument of issubdtype from `int` to `np.signedinteger` is deprecated. In future, it will be treated as `np.int64 == np.dtype(int).type`.\n",
            "  if np.issubdtype(vec.dtype, np.int):\n"
          ],
          "name": "stderr"
        }
      ]
    },
    {
      "cell_type": "markdown",
      "metadata": {
        "id": "cWY_mhBW7LGb",
        "colab_type": "text"
      },
      "source": [
        "###### ---- EXPERIMENT 5 --- ########\n",
        "##### USING SEARCH ENGINE V2 WITH VALIDATION DATA \n",
        "##### FOR X SHOPPING LISTs"
      ]
    },
    {
      "cell_type": "code",
      "metadata": {
        "id": "NDg52-EU6h2T",
        "colab_type": "code",
        "colab": {
          "base_uri": "https://localhost:8080/",
          "height": 1000
        },
        "outputId": "1bd828c1-5e99-4b17-d8f7-665027cd851c"
      },
      "source": [
        "#Create the object\n",
        "s2 = searchEngine_v2(products_dict)\n",
        "#Create the W2V model\n",
        "s2.compute(orders_train)\n",
        "size = 5\n",
        "for i in range(size):\n",
        "  print(\"\\n\\n ########### RUNNING EXPERIMENT %d of %d ###################\"%(i+1,size))\n",
        "  #Add the shopping list\n",
        "  #Generate random positions to feed the array\n",
        "  n1 = int(np.random.randint(len(orders_val),size=1))\n",
        "  print(\"Using Shopping List: %d\"%(n1))\n",
        "  prod = orders_val[n1]\n",
        "  vector = s2.getVectors(prod)\n",
        "  #show the shopping list\n",
        "  #prod = np.asarray(prod, dtype=int)\n",
        "  s2.showProduct(prod)\n",
        "  print(\"\\n\")\n",
        "  #Make a prediction based on the resulting vector\n",
        "  s2.predict(vector)"
      ],
      "execution_count": 26,
      "outputs": [
        {
          "output_type": "stream",
          "text": [
            "Creating model Word2Vec\n",
            "Model created!\n",
            "\n",
            "\n",
            " ########### RUNNING EXPERIMENT 1 of 5 ###################\n",
            "Using Shopping List: 221\n",
            "--- Shopping list ---- \n",
            "Product: ['GARDENERS KNEELING PAD KEEP CALM '] Code: 23301\n",
            "Product: ['VICTORIAN GLASS HANGING T-LIGHT'] Code: 22178\n",
            "Product: ['CREAM HEART CARD HOLDER'] Code: 22189\n",
            "Product: ['NATURAL SLATE HEART CHALKBOARD '] Code: 22457\n",
            "Product: ['BLACK HEART CARD HOLDER'] Code: 22188\n",
            "\n",
            "\n",
            "---- Predictions ----\n",
            "[0] Code: 22189 Already on the original list\n",
            "[1] Code: 22457 Already on the original list\n",
            "[2] Similarity: 0.87 | Product Code:  85062  | Desc:  ['PEARL CRYSTAL PUMPKIN T-LIGHT HLDR']\n",
            "[3] Similarity: 0.86 | Product Code:  21313  | Desc:  ['GLASS HEART T-LIGHT HOLDER ']\n",
            "[4] Similarity: 0.857 | Product Code:  84978  | Desc:  ['HANGING HEART JAR T-LIGHT HOLDER']\n",
            "[5] Similarity: 0.857 | Product Code:  71477  | Desc:  ['COLOURED GLASS STAR T-LIGHT HOLDER']\n",
            "[6] Similarity: 0.855 | Product Code:  23132  | Desc:  ['SMALL IVORY HEART WALL ORGANISER']\n",
            "[7] Code: 22188 Already on the original list\n",
            "[8] Similarity: 0.852 | Product Code:  75049L  | Desc:  ['LARGE CIRCULAR MIRROR MOBILE']\n",
            "[9] Similarity: 0.849 | Product Code:  23145  | Desc:  ['ZINC T-LIGHT HOLDER STAR LARGE']\n",
            "\n",
            "\n",
            " ########### RUNNING EXPERIMENT 2 of 5 ###################\n",
            "Using Shopping List: 96\n",
            "--- Shopping list ---- \n",
            "Product: ['DOORMAT UNION FLAG'] Code: 48138\n",
            "Product: ['RETROSPOT GIANT TUBE MATCHES'] Code: 21588\n",
            "Product: ['SET/2 RED RETROSPOT TEA TOWELS '] Code: 21035\n",
            "Product: ['DOG BOWL CHASING BALL DESIGN'] Code: 22349\n",
            "Product: ['BOX OF 6 ASSORTED COLOUR TEASPOONS'] Code: 84969\n",
            "Product: ['HAND WARMER BABUSHKA DESIGN'] Code: 22834\n",
            "Product: ['HAND WARMER UNION JACK'] Code: 22633\n",
            "Product: ['CHILDS BREAKFAST SET SPACEBOY '] Code: 22634\n",
            "Product: ['DO NOT TOUCH MY STUFF DOOR HANGER '] Code: 21163\n",
            "Product: ['HOT WATER BOTTLE KEEP CALM'] Code: 23355\n",
            "Product: ['GREY HEART HOT WATER BOTTLE'] Code: 22113\n",
            "Product: ['CHILDRENS CUTLERY SPACEBOY '] Code: 23256\n",
            "Product: ['CHILDRENS CUTLERY DOLLY GIRL '] Code: 23254\n",
            "Product: ['GREY HEART HOT WATER BOTTLE'] Code: 22113\n",
            "Product: ['HOT WATER BOTTLE KEEP CALM'] Code: 23355\n",
            "Product: ['VINTAGE DOILY DELUXE SEWING KIT '] Code: 23494\n",
            "Product: ['DELUXE SEWING KIT '] Code: 22654\n",
            "Product: ['WOODEN SCHOOL COLOURING SET'] Code: 22561\n",
            "Product: ['SILVER STARS TABLE DECORATION'] Code: 23101\n",
            "Product: ['SET OF 20 KIDS COOKIE CUTTERS'] Code: 84375\n",
            "Product: ['HOT WATER BOTTLE TEA AND SYMPATHY'] Code: 22114\n",
            "Product: ['GREY HEART HOT WATER BOTTLE'] Code: 22113\n",
            "Product: ['HOT WATER BOTTLE I AM SO POORLY'] Code: 22835\n",
            "Product: ['SET OF 3 HEART COOKIE CUTTERS'] Code: 84378\n",
            "Product: ['SET 36 COLOUR PENCILS SPACEBOY '] Code: 23371\n",
            "Product: ['36 PENCILS TUBE SKULLS'] Code: 20978\n",
            "Product: ['SET 36 COLOUR PENCILS LOVE LONDON'] Code: 23369\n",
            "Product: ['VINTAGE  2 METRE FOLDING RULER'] Code: 23188\n",
            "Product: ['DINOSAURS  WRITING SET '] Code: 21329\n",
            "Product: ['BALLOONS  WRITING SET '] Code: 21328\n",
            "Product: ['RETROSPOT GIANT TUBE MATCHES'] Code: 21588\n",
            "Product: ['WOODLAND MINI BACKPACK'] Code: 23388\n",
            "Product: ['SPACEBOY MINI BACKPACK'] Code: 23389\n",
            "Product: ['VINTAGE UNION JACK MEMOBOARD'] Code: 21623\n",
            "Product: ['BICYCLE PUNCTURE REPAIR KIT '] Code: 23552\n",
            "Product: [' I LOVE LONDON MINI BACKPACK'] Code: 23391\n",
            "Product: ['SET 2 TEA TOWELS I LOVE LONDON '] Code: 22900\n",
            "Product: ['SPACEBOY MINI BACKPACK'] Code: 23389\n",
            "Product: ['SET OF 4 FAIRY CAKE PLACEMATS'] Code: 84509B\n",
            "Product: ['MONEY BOX KINGS CHOICE DESIGN'] Code: 22406\n",
            "Product: ['GREY HEART HOT WATER BOTTLE'] Code: 22113\n",
            "Product: ['RETROSPOT GIANT TUBE MATCHES'] Code: 21588\n",
            "Product: ['TEA TIME OVEN GLOVE'] Code: 47559B\n",
            "Product: ['Next Day Carriage'] Code: 23444\n",
            "\n",
            "\n",
            "---- Predictions ----\n",
            "[0] Similarity: 0.907 | Product Code:  84031B  | Desc:  ['CHARLIE LOLA BLUE HOT WATER BOTTLE ']\n",
            "[1] Similarity: 0.903 | Product Code:  22314  | Desc:  ['OFFICE MUG WARMER CHOC+BLUE']\n",
            "[2] Similarity: 0.892 | Product Code:  23358  | Desc:  ['HOT STUFF HOT WATER BOTTLE']\n",
            "[3] Similarity: 0.891 | Product Code:  21064  | Desc:  ['BOOM BOX SPEAKER BOYS']\n",
            "[4] Similarity: 0.89 | Product Code:  84032A  | Desc:  ['CHARLIE+LOLA PINK HOT WATER BOTTLE']\n",
            "[5] Similarity: 0.884 | Product Code:  70007  | Desc:  ['HI TEC ALPINE HAND WARMER']\n",
            "[6] Similarity: 0.879 | Product Code:  84032B  | Desc:  ['CHARLIE + LOLA RED HOT WATER BOTTLE']\n",
            "[7] Similarity: 0.876 | Product Code:  21065  | Desc:  ['BOOM BOX SPEAKER GIRLS']\n",
            "[8] Similarity: 0.875 | Product Code:  23449  | Desc:  ['SET OF 6 EASTER RAINBOW CHICKS']\n",
            "[9] Similarity: 0.872 | Product Code:  84031A  | Desc:  ['CHARLIE+LOLA RED HOT WATER BOTTLE ']\n",
            "\n",
            "\n",
            " ########### RUNNING EXPERIMENT 3 of 5 ###################\n",
            "Using Shopping List: 369\n",
            "--- Shopping list ---- \n",
            "Product: ['ICE CREAM SUNDAE LIP GLOSS'] Code: 23076\n",
            "Product: ['JUMBO STORAGE BAG SUKI'] Code: 21931\n",
            "Product: ['JUMBO BAG SPACEBOY DESIGN'] Code: 22385\n",
            "Product: ['JUMBO BAG RED RETROSPOT'] Code: 85099B\n",
            "Product: ['JUMBO BAG STRAWBERRY'] Code: 85099F\n",
            "Product: ['STRAWBERRY   PICNIC BAG'] Code: 21937\n",
            "Product: ['RED RETROSPOT PICNIC BAG'] Code: 21936\n",
            "Product: ['LUNCH BAG APPLE DESIGN'] Code: 23206\n",
            "Product: ['CHARLOTTE BAG VINTAGE ALPHABET '] Code: 23205\n",
            "Product: ['LUNCH BAG VINTAGE LEAF DESIGN'] Code: 23208\n",
            "Product: ['LUNCH BAG ALPHABET DESIGN'] Code: 23207\n",
            "Product: ['CHARLOTTE BAG APPLES DESIGN'] Code: 23204\n",
            "Product: ['JUMBO BAG ALPHABET'] Code: 23201\n",
            "Product: ['JUMBO BAG APPLES'] Code: 23199\n",
            "Product: ['SPOTTY BUNTING'] Code: 23298\n",
            "Product: ['LUNCH BAG VINTAGE DOILY '] Code: 23209\n",
            "Product: ['JUMBO BAG VINTAGE DOILY '] Code: 23203\n",
            "Product: ['JUMBO BAG VINTAGE LEAF'] Code: 23202\n",
            "Product: ['JUMBO BAG PEARS'] Code: 23200\n",
            "Product: ['LARGE CERAMIC TOP STORAGE JAR'] Code: 23165\n",
            "Product: ['JUMBO STORAGE BAG SKULLS'] Code: 21930\n",
            "Product: ['JUMBO BAG APPLES'] Code: 23199\n",
            "Product: ['LUNCH BAG VINTAGE DOILY '] Code: 23209\n",
            "Product: ['LUNCH BAG PINK POLKADOT'] Code: 22384\n",
            "Product: ['JUMBO BAG PINK POLKADOT'] Code: 22386\n",
            "Product: ['LUNCH BAG SUKI DESIGN '] Code: 22383\n",
            "Product: ['CHARLOTTE BAG SUKI DESIGN'] Code: 22355\n",
            "Product: ['LUNCH BAG  BLACK SKULL.'] Code: 20727\n",
            "Product: ['CHARLOTTE BAG APPLES DESIGN'] Code: 23204\n",
            "Product: ['LUNCH BAG APPLE DESIGN'] Code: 23206\n",
            "Product: ['SPOTTY BUNTING'] Code: 23298\n",
            "Product: ['STORAGE TIN VINTAGE DOILY '] Code: 23236\n",
            "Product: ['PACK OF 6 COCKTAIL PARASOL STRAWS'] Code: 23121\n",
            "Product: ['SET OF 4 KNICK KNACK TINS DOILY '] Code: 23240\n",
            "Product: ['CREAM HANGING HEART T-LIGHT HOLDER'] Code: 85123A\n",
            "Product: ['AGED GLASS SILVER T-LIGHT HOLDER'] Code: 21326\n",
            "Product: ['COFFEE MUG APPLES DESIGN'] Code: 22303\n",
            "Product: ['SET OF 60 PANTRY DESIGN CAKE CASES '] Code: 23307\n",
            "Product: ['PACK OF 60 PINK PAISLEY CAKE CASES'] Code: 21977\n",
            "Product: ['BLUE VINTAGE SPOT BEAKER'] Code: 23286\n",
            "Product: ['PINK VINTAGE SPOT BEAKER'] Code: 23285\n",
            "Product: ['LUNCH BAG VINTAGE DOILY '] Code: 23209\n",
            "Product: ['JUMBO BAG VINTAGE DOILY '] Code: 23203\n",
            "Product: ['LUNCH BAG  BLACK SKULL.'] Code: 20727\n",
            "Product: ['LUNCH BAG VINTAGE LEAF DESIGN'] Code: 23208\n",
            "Product: ['LUNCH BAG PINK POLKADOT'] Code: 22384\n",
            "Product: ['JUMBO BAG PINK POLKADOT'] Code: 22386\n",
            "Product: ['CHARLOTTE BAG PINK POLKADOT'] Code: 22356\n",
            "Product: ['LUNCH BAG APPLE DESIGN'] Code: 23206\n",
            "Product: ['JUMBO BAG STRAWBERRY'] Code: 85099F\n",
            "Product: ['STRAWBERRY LUNCH BOX WITH CUTLERY'] Code: 21559\n",
            "Product: ['HAND WARMER RED LOVE HEART'] Code: 23439\n",
            "Product: ['JUMBO BAG STRAWBERRY'] Code: 85099F\n",
            "Product: ['JUMBO BAG PEARS'] Code: 23200\n",
            "Product: ['JUMBO BAG APPLES'] Code: 23199\n",
            "Product: ['HAND WARMER BIRD DESIGN'] Code: 22867\n",
            "Product: ['LUNCH BAG VINTAGE DOILY '] Code: 23209\n",
            "Product: ['JUMBO BAG RED RETROSPOT'] Code: 85099B\n",
            "Product: ['RED RETROSPOT CHARLOTTE BAG'] Code: 20724\n",
            "Product: ['STRAWBERRY CHARLOTTE BAG'] Code: 20723\n",
            "Product: ['LUNCH BAG ALPHABET DESIGN'] Code: 23207\n",
            "Product: ['LUNCH BAG  BLACK SKULL.'] Code: 20727\n",
            "Product: ['LUNCH BAG APPLE DESIGN'] Code: 23206\n",
            "Product: ['LUNCH BAG SUKI DESIGN '] Code: 22383\n",
            "Product: ['JUMBO STORAGE BAG SKULLS'] Code: 21930\n",
            "Product: ['MISTLETOE HEART WREATH GREEN'] Code: 23130\n",
            "Product: ['JUMBO BAG PAISLEY PARK'] Code: 23581\n",
            "Product: ['LUNCH BAG PAISLEY PARK  '] Code: 23583\n",
            "\n",
            "\n",
            "---- Predictions ----\n",
            "[0] Code: 23201 Already on the original list\n",
            "[1] Code: 23199 Already on the original list\n",
            "[2] Code: 23200 Already on the original list\n",
            "[3] Code: 23206 Already on the original list\n",
            "[4] Code: 23208 Already on the original list\n",
            "[5] Code: 23207 Already on the original list\n",
            "[6] Code: 23204 Already on the original list\n",
            "[7] Code: 23203 Already on the original list\n",
            "[8] Similarity: 0.878 | Product Code:  23681  | Desc:  ['LUNCH BAG RED VINTAGE DOILY']\n",
            "[9] Code: 23205 Already on the original list\n",
            "\n",
            "\n",
            " ########### RUNNING EXPERIMENT 4 of 5 ###################\n",
            "Using Shopping List: 361\n",
            "--- Shopping list ---- \n",
            "Product: ['ZINC HEART FLOWER T-LIGHT HOLDER'] Code: 23088\n",
            "Product: ['CHICK GREY HOT WATER BOTTLE'] Code: 21484\n",
            "Product: ['SET OF 12 FAIRY CAKE BAKING CASES'] Code: 23293\n",
            "Product: ['DOORMAT WELCOME TO OUR HOME'] Code: 22692\n",
            "Product: ['EGG FRYING PAN RED '] Code: 23338\n",
            "Product: ['SET OF 4 PANTRY JELLY MOULDS'] Code: 22993\n",
            "Product: ['CLOTHES PEGS RETROSPOT PACK 24 '] Code: 22558\n",
            "Product: ['LUNCH BAG VINTAGE DOILY '] Code: 23209\n",
            "Product: ['RED APPLES CHOPPING BOARD   '] Code: 23115\n",
            "Product: ['COTTON APRON PANTRY DESIGN'] Code: 22990\n",
            "Product: ['TRADITIONAL PICK UP STICKS GAME '] Code: 23570\n",
            "Product: ['PAINT YOUR OWN CANVAS SET'] Code: 22493\n",
            "Product: ['SINGLE ANTIQUE ROSE HOOK IVORY'] Code: 23147\n",
            "Product: ['THREE MINI HANGING FRAMES'] Code: 23454\n",
            "Product: ['SET 6 PAPER TABLE LANTERN HEARTS '] Code: 23082\n",
            "Product: ['HEART MINI PORTRAIT FRAME'] Code: 23452\n",
            "Product: ['JUMBO BAG ALPHABET'] Code: 23201\n",
            "Product: ['ROLL WRAP VINTAGE CHRISTMAS'] Code: 23349\n",
            "Product: [\"ROLL WRAP 50'S RED CHRISTMAS \"] Code: 23352\n",
            "Product: ['FELTCRAFT CUSHION OWL'] Code: 22568\n",
            "Product: ['VINTAGE CHRISTMAS PAPER GIFT BAG'] Code: 23373\n",
            "Product: ['6 GIFT TAGS VINTAGE CHRISTMAS '] Code: 23353\n",
            "Product: ['SCANDINAVIAN REDS RIBBONS'] Code: 85049E\n",
            "Product: ['CHRISTMAS HANGING STAR WITH BELL'] Code: 21810\n",
            "Product: ['MAGNETS PACK OF 4 VINTAGE LABELS '] Code: 22403\n",
            "Product: ['ROMANTIC IMAGES GIFT WRAP SET'] Code: 85032A\n",
            "Product: ['GREEN CHRISTMAS TREE CARD HOLDER'] Code: 22187\n",
            "Product: ['VINTAGE SNAP CARDS'] Code: 21790\n",
            "Product: ['ENAMEL BREAD BIN CREAM'] Code: 22424\n",
            "Product: ['NATURAL SLATE RECTANGLE CHALKBOARD'] Code: 22488\n",
            "Product: ['SET 12 VINTAGE DOILY CHALK '] Code: 23499\n",
            "Product: ['ASSORTED BOTTLE TOP  MAGNETS '] Code: 22915\n",
            "Product: ['BULL DOG BOTTLE OPENER'] Code: 23184\n",
            "Product: ['LAVENDER TOILETTE BOTTLE'] Code: 23418\n",
            "Product: ['SET 6 PAPER TABLE LANTERN HEARTS '] Code: 23082\n",
            "Product: ['SET 6 PAPER TABLE LANTERN STARS '] Code: 23083\n",
            "Product: ['EGG FRYING PAN RED '] Code: 23338\n",
            "\n",
            "\n",
            "---- Predictions ----\n",
            "[0] Similarity: 0.96 | Product Code:  23116  | Desc:  ['VEGETABLE GARDEN CHOPPING BOARD']\n",
            "[1] Similarity: 0.96 | Product Code:  23564  | Desc:  ['EGG CUP MILKMAID INGRID']\n",
            "[2] Similarity: 0.958 | Product Code:  23566  | Desc:  ['EGG CUP MILKMAID HEIDI']\n",
            "[3] Similarity: 0.948 | Product Code:  23568  | Desc:  ['EGG CUP HENRIETTA HEN CREAM ']\n",
            "[4] Similarity: 0.947 | Product Code:  23520  | Desc:  ['EMBROIDERED RIBBON REEL RUBY ']\n",
            "[5] Similarity: 0.946 | Product Code:  23567  | Desc:  ['EGG CUP HENRIETTA HEN PINK']\n",
            "[6] Similarity: 0.945 | Product Code:  23562  | Desc:  ['SET OF 6 RIBBONS PERFECTLY PRETTY  ']\n",
            "[7] Similarity: 0.942 | Product Code:  23661  | Desc:  ['MILK MAIDS MUG ']\n",
            "[8] Similarity: 0.941 | Product Code:  23565  | Desc:  ['EGG CUP MILKMAID HELGA ']\n",
            "[9] Similarity: 0.94 | Product Code:  23324  | Desc:  ['RUSTIC STRAWBERRY JAM POT LARGE ']\n",
            "\n",
            "\n",
            " ########### RUNNING EXPERIMENT 5 of 5 ###################\n",
            "Using Shopping List: 258\n",
            "--- Shopping list ---- \n",
            "Product: ['LARGE WHITE HEART OF WICKER'] Code: 23322\n",
            "Product: ['WHITE WICKER STAR '] Code: 23323\n",
            "Product: ['IVORY WICKER HEART MEDIUM'] Code: 23333\n",
            "Product: ['HEART WOODEN CHRISTMAS DECORATION'] Code: 22574\n",
            "Product: ['HEART WREATH DECORATION WITH BELL'] Code: 23212\n",
            "Product: ['15CM CHRISTMAS GLASS BALL 20 LIGHTS'] Code: 85048\n",
            "Product: ['STAR WREATH DECORATION WITH BELL'] Code: 23213\n",
            "Product: ['SET OF 3 WOODEN HEART DECORATIONS'] Code: 23263\n",
            "Product: ['HOT WATER BOTTLE I AM SO POORLY'] Code: 22835\n",
            "Product: ['LOVE HOT WATER BOTTLE'] Code: 23356\n",
            "Product: ['HOT WATER BOTTLE KEEP CALM'] Code: 23355\n",
            "Product: ['HOME SWEET HOME BLACKBOARD'] Code: 23404\n",
            "Product: ['LETTER HOLDER HOME SWEET HOME'] Code: 23403\n",
            "Product: ['HOME SWEET HOME KEY HOLDER'] Code: 23406\n",
            "Product: ['RUSTIC MIRROR WITH LACE HEART'] Code: 23401\n",
            "\n",
            "\n",
            "---- Predictions ----\n",
            "[0] Similarity: 0.956 | Product Code:  23470  | Desc:  ['CARD HOLDER LOVE BIRD LARGE ']\n",
            "[1] Similarity: 0.954 | Product Code:  23399  | Desc:  ['HOME SWEET HOME HANGING HEART']\n",
            "[2] Similarity: 0.948 | Product Code:  23427  | Desc:  ['STOOL HOME SWEET HOME ']\n",
            "[3] Similarity: 0.948 | Product Code:  22158  | Desc:  ['3 HEARTS HANGING DECORATION RUSTIC']\n",
            "[4] Similarity: 0.946 | Product Code:  23223  | Desc:  ['CHRISTMAS TREE HANGING SILVER ']\n",
            "[5] Similarity: 0.94 | Product Code:  23398  | Desc:  ['HANGING HEART BONHEUR']\n",
            "[6] Similarity: 0.939 | Product Code:  23431  | Desc:  ['NATURAL HANGING QUILTED HEARTS ']\n",
            "[7] Similarity: 0.936 | Product Code:  23412  | Desc:  ['HEART MIRROR ANTIQUE WHITE']\n",
            "[8] Similarity: 0.936 | Product Code:  20956  | Desc:  ['PORCELAIN T-LIGHT HOLDERS ASSORTED']\n",
            "[9] Similarity: 0.924 | Product Code:  23490  | Desc:  ['T-LIGHT HOLDER HANGING LOVE BIRD']\n"
          ],
          "name": "stdout"
        },
        {
          "output_type": "stream",
          "text": [
            "/usr/local/lib/python3.6/dist-packages/ipykernel_launcher.py:47: DeprecationWarning: Call to deprecated `similar_by_vector` (Method will be removed in 4.0.0, use self.wv.similar_by_vector() instead).\n",
            "/usr/local/lib/python3.6/dist-packages/gensim/matutils.py:737: FutureWarning: Conversion of the second argument of issubdtype from `int` to `np.signedinteger` is deprecated. In future, it will be treated as `np.int64 == np.dtype(int).type`.\n",
            "  if np.issubdtype(vec.dtype, np.int):\n"
          ],
          "name": "stderr"
        }
      ]
    }
  ]
}