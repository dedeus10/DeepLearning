{
  "nbformat": 4,
  "nbformat_minor": 0,
  "metadata": {
    "colab": {
      "name": "BackPropagation_LuisFelipedeDeus.ipynb",
      "provenance": [],
      "collapsed_sections": []
    },
    "kernelspec": {
      "name": "python3",
      "display_name": "Python 3"
    }
  },
  "cells": [
    {
      "cell_type": "markdown",
      "metadata": {
        "id": "a5AHVar44lOx",
        "colab_type": "text"
      },
      "source": [
        "#-------------------------------------------------------------------------------\n",
        "#--         Federal University of Santa Maria             \n",
        "#--               Technology Center            \n",
        "#--            Computer Engineering Course\n",
        "#--\n",
        "#-- Author      : Luis Felipe de Deus                           \n",
        "#--\n",
        "#-- Created     : 15 May 2020\n",
        "#-- Update      : 21 May 2020                                                  \n",
        "#-------------------------------------------------------------------------------\n",
        "####### JUST A SMALL IMPLEMENTATION OF ARTIFICIAL NEURAL NETWORK\n",
        "####### USING FEEDFORWARD APPROACH\n",
        "####### WITH BACKPROPAGATION APPROACH WITHOUT LIBRARIES\n",
        "####### THE NUMBER OF NEURONS FOR EACH LAYER IS PARAMETRIZABLE\n",
        "####### THE NUMBER OF HIDDEN LAYERS IS ALSO PARAMETRIZABLE\n"
      ]
    },
    {
      "cell_type": "code",
      "metadata": {
        "id": "6I9mhp-y2M1g",
        "colab_type": "code",
        "outputId": "ae49850c-2ce3-4e44-d56c-b2233ba9c3c3",
        "colab": {
          "base_uri": "https://localhost:8080/",
          "height": 34
        }
      },
      "source": [
        "#Remove the iris Dataset if already has\n",
        "!rm Iris.csv"
      ],
      "execution_count": 0,
      "outputs": [
        {
          "output_type": "stream",
          "text": [
            "rm: cannot remove 'Iris.csv': No such file or directory\n"
          ],
          "name": "stdout"
        }
      ]
    },
    {
      "cell_type": "code",
      "metadata": {
        "id": "52TgcXWEkc81",
        "colab_type": "code",
        "colab": {}
      },
      "source": [
        "#import the libs\n",
        "import numpy as np\n",
        "from google.colab import files\n",
        "import io\n",
        "import random\n",
        "from sklearn.metrics import mean_squared_error\n",
        "from math import sqrt\n",
        "import matplotlib.pyplot as plt"
      ],
      "execution_count": 0,
      "outputs": []
    },
    {
      "cell_type": "code",
      "metadata": {
        "id": "SvTqZKzDnJln",
        "colab_type": "code",
        "outputId": "063b1271-bfeb-457e-89ca-2b65c3c85249",
        "colab": {
          "resources": {
            "http://localhost:8080/nbextensions/google.colab/files.js": {
              "data": "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",
              "ok": true,
              "headers": [
                [
                  "content-type",
                  "application/javascript"
                ]
              ],
              "status": 200,
              "status_text": "OK"
            }
          },
          "base_uri": "https://localhost:8080/",
          "height": 83
        }
      },
      "source": [
        "#Upload has the raw dataset\n",
        "uploaded = files.upload()\n",
        "\n",
        "# f is the Iris.csv file\n",
        "f = io.BytesIO(uploaded['Iris.csv'])"
      ],
      "execution_count": 0,
      "outputs": [
        {
          "output_type": "display_data",
          "data": {
            "text/html": [
              "\n",
              "     <input type=\"file\" id=\"files-e573c3ca-5c16-47d0-b900-8d381840db73\" name=\"files[]\" multiple disabled />\n",
              "     <output id=\"result-e573c3ca-5c16-47d0-b900-8d381840db73\">\n",
              "      Upload widget is only available when the cell has been executed in the\n",
              "      current browser session. Please rerun this cell to enable.\n",
              "      </output>\n",
              "      <script src=\"/nbextensions/google.colab/files.js\"></script> "
            ],
            "text/plain": [
              "<IPython.core.display.HTML object>"
            ]
          },
          "metadata": {
            "tags": []
          }
        },
        {
          "output_type": "stream",
          "text": [
            "Saving Iris.csv to Iris.csv\n"
          ],
          "name": "stdout"
        }
      ]
    },
    {
      "cell_type": "code",
      "metadata": {
        "id": "f7-KRHha1kLC",
        "colab_type": "code",
        "colab": {}
      },
      "source": [
        "f.seek(0)\n",
        "# lines is a list with strings for each line from Iris\n",
        "lines = f.readlines()"
      ],
      "execution_count": 0,
      "outputs": []
    },
    {
      "cell_type": "code",
      "metadata": {
        "id": "l2aAziOo7kA-",
        "colab_type": "code",
        "colab": {}
      },
      "source": [
        "#Create the tensor for X (input) and Y(Output)\n",
        "X = np.zeros((len(lines)-1,4)) # 4 Inputs\n",
        "Y = np.zeros((len(lines)-1,3)) # 3 Outputs (one-hot encoding)\n",
        "\n",
        "#Create an array with the categorys\n",
        "cat = np.array(['Iris-setosa','Iris-versicolor','Iris-virginica'])"
      ],
      "execution_count": 0,
      "outputs": []
    },
    {
      "cell_type": "code",
      "metadata": {
        "id": "zvBA3O9116lg",
        "colab_type": "code",
        "colab": {}
      },
      "source": [
        "# For it line, except the zero because is the header\n",
        "for i, line in enumerate(lines[1:]):\n",
        "  #Decode\n",
        "  s = line.decode()[:-1]\n",
        "\n",
        "  #Split the line\n",
        "  _,sl,sw,pl,pw,sp = s.split(',')\n",
        "\n",
        "  #Change data type\n",
        "  sl = float(sl)\n",
        "  sw = float(sw)\n",
        "  pl = float(pl)\n",
        "  pw = float(pw)\n",
        "  \n",
        "  #Stores in X the dataset\n",
        "  X[i:] = np.array([sl,sw,pl,pw])\n",
        "  #In Y we have an array with one-hot encoding, where 1 is true and 0 is false\n",
        "  Y[i:] = (cat == sp).astype('float')\n",
        "  #e.g. [1.0, 0.0, 0.0]\n",
        "  "
      ],
      "execution_count": 0,
      "outputs": []
    },
    {
      "cell_type": "code",
      "metadata": {
        "id": "Fi-Xaru-YO1a",
        "colab_type": "code",
        "colab": {}
      },
      "source": [
        "indexes = list(range(150))\n",
        "random.shuffle(indexes)\n",
        "\n",
        "#Split the dataset with 140 samples for trainning\n",
        "T = 140\n",
        "\n",
        "Xt = np.zeros((T,4))\n",
        "Yt = np.zeros((T,3))\n",
        "Xv = np.zeros((150-T,4))\n",
        "Yv = np.zeros((150-T,3))\n",
        "\n",
        "for i in range(0,T):\n",
        "  Xt[i,:] = X[indexes[i],:]\n",
        "  Yt[i,:] = Y[indexes[i],:]\n",
        "for i in range(0,150-T):\n",
        "  Xv[i,:] = X[indexes[T+i],:]\n",
        "  Yv[i,:] = Y[indexes[T+i],:]\n"
      ],
      "execution_count": 0,
      "outputs": []
    },
    {
      "cell_type": "code",
      "metadata": {
        "id": "E5rRBdzNlm3M",
        "colab_type": "code",
        "colab": {}
      },
      "source": [
        "#@brief: Activation function\n",
        "#@param: s - is tensor to be applyed to sigmoid\n",
        "#@param: deriv - If True returns the derivative from sigmoid\n",
        "def sigmoid(s, deriv=False):\n",
        "    if (deriv == True):\n",
        "        return s * (1 - s)\n",
        "    return 1/(1 + np.exp(-s))"
      ],
      "execution_count": 0,
      "outputs": []
    },
    {
      "cell_type": "code",
      "metadata": {
        "id": "MXes0y1dcXTa",
        "colab_type": "code",
        "colab": {}
      },
      "source": [
        "#@brief: Implements a Perceptron Neural Network\n",
        "#@param: input_size - number of neurons on input layer (e.g. 4)\n",
        "#@param: hidden_layer - a list with the number of neurons on each hidden layer (e.g [4,7])\n",
        "#@param: output_layer - number of neurons on output layer\n",
        "class Perceptron:\n",
        "  def __init__(self, input_size, hidden_layer, output_layer):\n",
        "    self.ilayer = input_size\n",
        "    self.hlayer = hidden_layer\n",
        "    self.olayer = output_layer\n",
        "    #Initalize the weights and bias for hidden layers\n",
        "    pLayer = self.ilayer\n",
        "    self.Wh = []\n",
        "    self.bh = []\n",
        "    for e,it in enumerate(self.hlayer):\n",
        "      self.Wh.append(np.random.random((it,pLayer))*2.0 - 1.0)\n",
        "      self.bh.append(np.random.random((it,1))*2.0 - 1.0)\n",
        "      pLayer = it\n",
        "\n",
        "    #Initalize the weights and bias for output layer\n",
        "    self.Wo = np.random.random((self.olayer,self.hlayer[-1]))*2.0 - 1.0\n",
        "    self.bo = np.random.random((self.olayer,1))*2.0 - 1.0\n",
        "\n",
        "    #Learning step\n",
        "    self.eta = 0.05\n",
        "    \n",
        "  def forward(self,x):\n",
        "    #Reshape the entrance\n",
        "    x = np.reshape(x,(self.ilayer,1))\n",
        "\n",
        "    #Calculate S for the hidden layers\n",
        "    self.sh = []\n",
        "    self.zh = []\n",
        "    pLayer = x\n",
        "    for e,whl in enumerate(self.Wh):\n",
        "      tmpSh = np.dot(whl,pLayer) + self.bh[e]\n",
        "      self.sh.append(tmpSh)\n",
        "      #Pass S through the activation function (Sigmoid)\n",
        "      tmpZh = sigmoid(tmpSh)\n",
        "      self.zh.append(tmpZh)\n",
        "      #Update the previous layer \n",
        "      pLayer = tmpZh\n",
        "  \n",
        "    #Calculte S for output layer\n",
        "    self.so = np.dot(self.Wo,self.zh[-1]) + self.bo\n",
        "\n",
        "    #Pass S through the activation function (Sigmoid)\n",
        "    self.zo = sigmoid(self.so)\n",
        "   \n",
        "    #Return the ANN output\n",
        "    return self.zo\n",
        "\n",
        "  def train(self, Xt, Yt):\n",
        "    Err = 0\n",
        "    #For all entries, X at a time \n",
        "    for n in range(len(Xt)):\n",
        "      #Reshape the entries\n",
        "      X = np.asarray(Xt[n])\n",
        "      Y = Yt[n]\n",
        "      X = np.reshape(X,(self.ilayer,1))\n",
        "      Y = np.reshape(Y,(self.olayer,1))\n",
        "\n",
        "      #First run ANN forward and get the array\n",
        "      # with the results for the output neurons\n",
        "      self.yPred = self.forward(X)\n",
        "      \n",
        "      #Evaluate the RMSE\n",
        "      Err = sqrt(mean_squared_error(Y, self.yPred))\n",
        "\n",
        "      #Second run the backpropagation\n",
        "      self.backpropagation(X, Y)\n",
        "\n",
        "    #Return the RMSE\n",
        "    return Err\n",
        "\n",
        "  def backpropagation(self, X, Y):\n",
        "    #For the output layer\n",
        "    #Delta Output layer (delta = (Erro) * derivative of sigmoid)\n",
        "    dOut = (self.yPred-Y) * (sigmoid(self.zo, True))\n",
        "    #Derivative of Error by Wo\n",
        "    dEwo =  np.dot(dOut, self.zh[-1].T)\n",
        "\n",
        "    ###--- Update parameters --######\n",
        "    #Bias\n",
        "    self.bo = self.bo - (self.eta*dOut)\n",
        "    #Weights\n",
        "    self.Wo = self.Wo - (self.eta*dEwo)\n",
        "\n",
        "    #For hidden layer\n",
        "    #Delta Hidden Layer (delta = (W from previuos layer) * (Previuous delta) * (derivative of sigmoid)\n",
        "    pLayerW = self.Wo\n",
        "    pLayerD = dOut\n",
        "    pZ = len(self.zh)-1\n",
        "    dHid = [] #Delta \n",
        "    dEwh = [] #Derivative of error by weight\n",
        "    for e,it in enumerate(reversed(self.zh), start=1):\n",
        "      tmpDelta = (np.dot(pLayerW.T, pLayerD)) * (sigmoid(it, True))\n",
        "      dHid.append(tmpDelta)\n",
        "      #Derivative of Error by Weight\n",
        "      if(pZ>0):\n",
        "        tmpDErro = np.dot(tmpDelta, (self.zh[pZ-1]).T)\n",
        "      else:\n",
        "        tmpDErro = np.dot(tmpDelta, (X.T))\n",
        "      #Decrease position of layer\n",
        "      pZ-=1\n",
        "\n",
        "      dEwh.append(tmpDErro)\n",
        "      #Update\n",
        "      pLayerW = self.Wh[-e] #Minus sign because it is from the end to the beginning\n",
        "      pLayerD = tmpDelta  #Keep the delta from this iteration\n",
        "\n",
        "      ###--- Update parameters --######\n",
        "      #Bias\n",
        "      self.bh[-e] = self.bh[-e] - (self.eta*tmpDelta)\n",
        "      #Weights\n",
        "      self.Wh[-e] = self.Wh[-e] - (self.eta*tmpDErro)"
      ],
      "execution_count": 0,
      "outputs": []
    },
    {
      "cell_type": "code",
      "metadata": {
        "id": "pOyjnTNkjbRp",
        "colab_type": "code",
        "outputId": "c623c7c8-d462-4fef-cbc5-39117a4d2f11",
        "colab": {
          "base_uri": "https://localhost:8080/",
          "height": 191
        }
      },
      "source": [
        "# Create a Neural Network\n",
        "iNeurons = 4\n",
        "hNeurons = [4,2]\n",
        "oNeurons = 3\n",
        "p = Perceptron(iNeurons, hNeurons, oNeurons)\n",
        "Errl = []\n",
        "# Trainning 10k times\n",
        "for i in range(10000):\n",
        "  # One step\n",
        "  Err = p.train(Xt,Yt)\n",
        "  #For each 1k steps print the RMSE\n",
        "  if not (i % 1000) or i == 0:\n",
        "    print('RMSE = ',Err)\n",
        "    Errl.append(Err)"
      ],
      "execution_count": 0,
      "outputs": [
        {
          "output_type": "stream",
          "text": [
            "RMSE =  0.4752853431727452\n",
            "RMSE =  0.026733817790211174\n",
            "RMSE =  0.01768461395961287\n",
            "RMSE =  0.014789344749131015\n",
            "RMSE =  0.010625644463328953\n",
            "RMSE =  0.008993372658079679\n",
            "RMSE =  0.007966078487095431\n",
            "RMSE =  0.007229234917729318\n",
            "RMSE =  0.006663830406091669\n",
            "RMSE =  0.006211159545579677\n"
          ],
          "name": "stdout"
        }
      ]
    },
    {
      "cell_type": "code",
      "metadata": {
        "id": "BVSTv7q1Q8qh",
        "colab_type": "code",
        "outputId": "6555bff6-f2f1-4931-9e3d-f598b1b814ae",
        "colab": {
          "base_uri": "https://localhost:8080/",
          "height": 408
        }
      },
      "source": [
        "#Plot the Loss function\n",
        "ax = np.linspace(0, len(Errl)/10, len(Errl), endpoint=True)\n",
        "plt.figure('Loss by Epoch in ANN', figsize=(10,6))\n",
        "plt.plot(ax,Errl)\n",
        "plt.ylabel(\"LOSS\", fontsize = 'large',fontweight = 'bold')\n",
        "plt.xlabel(\"EPOCHS\", fontsize = 'large',fontweight = 'bold')\n",
        "plt.legend(fontsize = 'large')\n",
        "plt.show()"
      ],
      "execution_count": 0,
      "outputs": [
        {
          "output_type": "stream",
          "text": [
            "No handles with labels found to put in legend.\n"
          ],
          "name": "stderr"
        },
        {
          "output_type": "display_data",
          "data": {
            "image/png": "[encoded data removed]",
            "text/plain": [
              "<Figure size 720x432 with 1 Axes>"
            ]
          },
          "metadata": {
            "tags": [],
            "needs_background": "light"
          }
        }
      ]
    },
    {
      "cell_type": "markdown",
      "metadata": {
        "id": "egEWbfBa_Nyw",
        "colab_type": "text"
      },
      "source": [
        "Aqui vamos avaliar a performance dessa rede neural treinada, vendo como ela se sai nos dados separados para validação (dados para os quais ela nunca foi treinada)."
      ]
    },
    {
      "cell_type": "code",
      "metadata": {
        "id": "1CavDK5osyEK",
        "colab_type": "code",
        "outputId": "c71a44f2-ce9c-4d88-d8e9-5af8b2c31bee",
        "colab": {
          "base_uri": "https://localhost:8080/",
          "height": 191
        }
      },
      "source": [
        "#Just a new format\n",
        "np.set_printoptions(formatter={'float':lambda x: '%+01.2f ' % x})\n",
        "\n",
        "#Evaluate the ANN\n",
        "for i in range(150-T):\n",
        "\n",
        "  #Get the validation input\n",
        "  xv = Xv[i,:]\n",
        "\n",
        "  #Get the output for this set \n",
        "  y = p.forward(xv)\n",
        "\n",
        "  #Get the expected output\n",
        "  yv = Yv[i,:]\n",
        "\n",
        "  #Show the results - Righ side Expected, Left side Predict\n",
        "  print(y.T, yv)\n"
      ],
      "execution_count": 0,
      "outputs": [
        {
          "output_type": "stream",
          "text": [
            "[[+0.00  +0.02  +0.98 ]] [+0.00  +0.00  +1.00 ]\n",
            "[[+0.02  +0.98  +0.00 ]] [+0.00  +1.00  +0.00 ]\n",
            "[[+0.99  +0.01  +0.00 ]] [+1.00  +0.00  +0.00 ]\n",
            "[[+0.01  +0.99  +0.00 ]] [+0.00  +1.00  +0.00 ]\n",
            "[[+0.01  +0.99  +0.00 ]] [+0.00  +1.00  +0.00 ]\n",
            "[[+0.01  +0.99  +0.00 ]] [+0.00  +1.00  +0.00 ]\n",
            "[[+0.00  +0.02  +0.98 ]] [+0.00  +0.00  +1.00 ]\n",
            "[[+0.01  +0.99  +0.00 ]] [+0.00  +1.00  +0.00 ]\n",
            "[[+0.01  +0.99  +0.00 ]] [+0.00  +1.00  +0.00 ]\n",
            "[[+0.99  +0.01  +0.00 ]] [+1.00  +0.00  +0.00 ]\n"
          ],
          "name": "stdout"
        }
      ]
    }
  ]
}