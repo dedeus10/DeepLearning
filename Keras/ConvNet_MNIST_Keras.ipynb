{
  "nbformat": 4,
  "nbformat_minor": 0,
  "metadata": {
    "colab": {
      "name": "ConvNet_MNIST_Keras.ipynb",
      "provenance": []
    },
    "kernelspec": {
      "name": "python3",
      "display_name": "Python 3"
    },
    "accelerator": "GPU"
  },
  "cells": [
    {
      "cell_type": "code",
      "metadata": {
        "id": "6mgZRg9TP9rq",
        "colab_type": "code",
        "colab": {}
      },
      "source": [
        "-------------------------------------------------------------------------------\n",
        "-- Federal University of Santa Maria\n",
        "-- Technology Center\n",
        "-- Computer Engineering Course\n",
        "--\n",
        "-- Author : Luis Felipe de Deus\n",
        "--\n",
        "-- Created : 28 May 2020\n",
        "-- Update : 28 May 2020\n",
        "-------------------------------------------------------------------------------\n",
        "\n",
        "####### JUST A SMALL IMPLEMENTATION OF ARTIFICIAL NEURAL NETWORK\n",
        "\n",
        "####### USING KERAS CONV NET"
      ],
      "execution_count": 0,
      "outputs": []
    },
    {
      "cell_type": "markdown",
      "metadata": {
        "id": "OrgR4QVdZr0a",
        "colab_type": "text"
      },
      "source": [
        "# Get Data\n",
        "\n",
        "[_dataset_ MNIST](https://en.wikipedia.org/wiki/MNIST_database) from [website](http://yann.lecun.com/exdb/mnist/) of [Prof. Yann LeCun](https://en.wikipedia.org/wiki/Yann_LeCun)."
      ]
    },
    {
      "cell_type": "code",
      "metadata": {
        "id": "D1ysJPoDYhDm",
        "colab_type": "code",
        "outputId": "fffc1239-3739-4518-af42-a2d6f78087ef",
        "colab": {
          "base_uri": "https://localhost:8080/",
          "height": 781
        }
      },
      "source": [
        "# Imagens de treinamento\n",
        "!wget http://yann.lecun.com/exdb/mnist/train-images-idx3-ubyte.gz -O train-images-idx3-ubyte.gz\n",
        "# Rótulos (classes)\n",
        "!wget http://yann.lecun.com/exdb/mnist/train-labels-idx1-ubyte.gz -O train-labels-idx1-ubyte.gz\n",
        "# Imagens de validação\n",
        "!wget http://yann.lecun.com/exdb/mnist/t10k-images-idx3-ubyte.gz -O t10k-images-idx3-ubyte.gz\n",
        "# Rótulos de validação (classes)\n",
        "!wget http://yann.lecun.com/exdb/mnist/t10k-labels-idx1-ubyte.gz -O t10k-labels-idx1-ubyte.gz"
      ],
      "execution_count": 2,
      "outputs": [
        {
          "output_type": "stream",
          "text": [
            "--2020-06-04 21:38:23--  http://yann.lecun.com/exdb/mnist/train-images-idx3-ubyte.gz\n",
            "Resolving yann.lecun.com (yann.lecun.com)... 104.28.6.204, 172.67.171.76, 104.28.7.204, ...\n",
            "Connecting to yann.lecun.com (yann.lecun.com)|104.28.6.204|:80... connected.\n",
            "HTTP request sent, awaiting response... 200 OK\n",
            "Length: 9912422 (9.5M) [application/x-gzip]\n",
            "Saving to: ‘train-images-idx3-ubyte.gz’\n",
            "\n",
            "train-images-idx3-u 100%[===================>]   9.45M  13.5MB/s    in 0.7s    \n",
            "\n",
            "2020-06-04 21:38:24 (13.5 MB/s) - ‘train-images-idx3-ubyte.gz’ saved [9912422/9912422]\n",
            "\n",
            "--2020-06-04 21:38:26--  http://yann.lecun.com/exdb/mnist/train-labels-idx1-ubyte.gz\n",
            "Resolving yann.lecun.com (yann.lecun.com)... 104.28.6.204, 172.67.171.76, 104.28.7.204, ...\n",
            "Connecting to yann.lecun.com (yann.lecun.com)|104.28.6.204|:80... connected.\n",
            "HTTP request sent, awaiting response... 200 OK\n",
            "Length: 28881 (28K) [application/x-gzip]\n",
            "Saving to: ‘train-labels-idx1-ubyte.gz’\n",
            "\n",
            "train-labels-idx1-u 100%[===================>]  28.20K  --.-KB/s    in 0.001s  \n",
            "\n",
            "2020-06-04 21:38:26 (47.2 MB/s) - ‘train-labels-idx1-ubyte.gz’ saved [28881/28881]\n",
            "\n",
            "--2020-06-04 21:38:28--  http://yann.lecun.com/exdb/mnist/t10k-images-idx3-ubyte.gz\n",
            "Resolving yann.lecun.com (yann.lecun.com)... 104.28.6.204, 172.67.171.76, 104.28.7.204, ...\n",
            "Connecting to yann.lecun.com (yann.lecun.com)|104.28.6.204|:80... connected.\n",
            "HTTP request sent, awaiting response... 200 OK\n",
            "Length: 1648877 (1.6M) [application/x-gzip]\n",
            "Saving to: ‘t10k-images-idx3-ubyte.gz’\n",
            "\n",
            "t10k-images-idx3-ub 100%[===================>]   1.57M  4.33MB/s    in 0.4s    \n",
            "\n",
            "2020-06-04 21:38:29 (4.33 MB/s) - ‘t10k-images-idx3-ubyte.gz’ saved [1648877/1648877]\n",
            "\n",
            "--2020-06-04 21:38:30--  http://yann.lecun.com/exdb/mnist/t10k-labels-idx1-ubyte.gz\n",
            "Resolving yann.lecun.com (yann.lecun.com)... 104.28.6.204, 172.67.171.76, 104.28.7.204, ...\n",
            "Connecting to yann.lecun.com (yann.lecun.com)|104.28.6.204|:80... connected.\n",
            "HTTP request sent, awaiting response... 200 OK\n",
            "Length: 4542 (4.4K) [application/x-gzip]\n",
            "Saving to: ‘t10k-labels-idx1-ubyte.gz’\n",
            "\n",
            "t10k-labels-idx1-ub 100%[===================>]   4.44K  --.-KB/s    in 0s      \n",
            "\n",
            "2020-06-04 21:38:30 (348 MB/s) - ‘t10k-labels-idx1-ubyte.gz’ saved [4542/4542]\n",
            "\n"
          ],
          "name": "stdout"
        }
      ]
    },
    {
      "cell_type": "code",
      "metadata": {
        "id": "b6aO4m8-QjGD",
        "colab_type": "code",
        "colab": {}
      },
      "source": [
        "#Import the Libraries we need\n",
        "import numpy as np\n",
        "from struct import unpack\n",
        "from sklearn.metrics import mean_squared_error\n",
        "from sklearn.model_selection import train_test_split\n",
        "from math import sqrt\n",
        "import matplotlib.pyplot as plt\n",
        "import tensorflow.compat.v2 as tf"
      ],
      "execution_count": 0,
      "outputs": []
    },
    {
      "cell_type": "code",
      "metadata": {
        "id": "0Y07CnRjaJYU",
        "colab_type": "code",
        "colab": {}
      },
      "source": [
        "# Unpack files\n",
        "!gunzip *.gz"
      ],
      "execution_count": 0,
      "outputs": []
    },
    {
      "cell_type": "code",
      "metadata": {
        "id": "3-GlQ5rjbPwg",
        "colab_type": "code",
        "colab": {}
      },
      "source": [
        "#@brief: This function will read the file and create an 3d array\n",
        "#@param: img_filename is the filename from the desired file\n",
        "#@param: 3d array with the images\n",
        "def read_imgs(img_filename):\n",
        "  \n",
        "  # Open the file\n",
        "  img_file = open(img_filename,'rb')\n",
        "\n",
        "  # Read the file head\n",
        "  magic = unpack('>i', img_file.read(4))[0]\n",
        "  total = unpack('>i', img_file.read(4))[0]\n",
        "  height = unpack('>i', img_file.read(4))[0]\n",
        "  width = unpack('>i', img_file.read(4))[0]\n",
        "\n",
        "  #Validation test against corrupted files\n",
        "  if magic != 2051:\n",
        "    print('Erro, este arquivo não parece ser um arquivo de imagens MNIST')\n",
        "\n",
        "  #3d array with the sample (image) where the image is 28*28 pixels\n",
        "  imgs = np.zeros((total,height,width))\n",
        "\n",
        "  #Populates the array\n",
        "  for k in range(total): # Each sample k\n",
        "    for i in range(height): # Each line i\n",
        "      for j in range(width): # Each column j\n",
        "        imgs[k,i,j] = ord(img_file.read(1)) # 1 byte\n",
        "  \n",
        "  # Return the 3darray\n",
        "  return imgs"
      ],
      "execution_count": 0,
      "outputs": []
    },
    {
      "cell_type": "code",
      "metadata": {
        "id": "gpK1CJ0mgAzn",
        "colab_type": "code",
        "colab": {}
      },
      "source": [
        "#@brief: This function will read the labels and create an 2d array\n",
        "#@param: labels_filename is the filename from the desired file\n",
        "#@param: 2d array with the images\n",
        "def read_labels(labels_filename):\n",
        "  \n",
        "  # Open the file\n",
        "  labels_file = open(labels_filename,'rb')\n",
        "\n",
        "  # Read the file head\n",
        "  magic = unpack('>i', labels_file.read(4))[0]\n",
        "  total = unpack('>i', labels_file.read(4))[0]\n",
        "\n",
        "  #Validation test against corrupted files\n",
        "  if magic != 2049:\n",
        "    print('Erro, este arquivo não parece ser um arquivo de imagens MNIST')\n",
        "\n",
        "  #2d array with the sample (label)\n",
        "  labels = np.zeros((total))\n",
        "\n",
        "  #Populates the array\n",
        "  for k in range(total): # Each sample k\n",
        "    labels[k] = ord(labels_file.read(1)) #  1 byte\n",
        "  \n",
        "  # Return the 3darray\n",
        "  return labels"
      ],
      "execution_count": 0,
      "outputs": []
    },
    {
      "cell_type": "code",
      "metadata": {
        "id": "JEEgfzZli9yF",
        "colab_type": "code",
        "colab": {}
      },
      "source": [
        "# Read training data\n",
        "imgs = read_imgs('train-images-idx3-ubyte')\n",
        "labels = read_labels('train-labels-idx1-ubyte')\n",
        "\n",
        "# Read validation data\n",
        "imgs_val = read_imgs('t10k-images-idx3-ubyte')\n",
        "labels_val = read_labels('t10k-labels-idx1-ubyte')"
      ],
      "execution_count": 0,
      "outputs": []
    },
    {
      "cell_type": "markdown",
      "metadata": {
        "id": "Zp2UizMChPb-",
        "colab_type": "text"
      },
      "source": [
        "Normalizing"
      ]
    },
    {
      "cell_type": "code",
      "metadata": {
        "id": "wKux9rL1hEh4",
        "colab_type": "code",
        "colab": {}
      },
      "source": [
        "# Normalize the images\n",
        "X_train = imgs / 255.0\n",
        "X_test = imgs_val / 255.0"
      ],
      "execution_count": 0,
      "outputs": []
    },
    {
      "cell_type": "code",
      "metadata": {
        "id": "qQ8Is1guL1_b",
        "colab_type": "code",
        "colab": {}
      },
      "source": [
        "# One-hot encoding of labels\n",
        "Y_train = tf.keras.utils.to_categorical(labels)\n",
        "Y_test = tf.keras.utils.to_categorical(labels_val)"
      ],
      "execution_count": 0,
      "outputs": []
    },
    {
      "cell_type": "code",
      "metadata": {
        "id": "hd61WHkcS9vD",
        "colab_type": "code",
        "colab": {
          "base_uri": "https://localhost:8080/",
          "height": 34
        },
        "outputId": "d9de3f8c-f1ba-4848-fb2a-57ec1d65f3fd"
      },
      "source": [
        "X_train.shape"
      ],
      "execution_count": 19,
      "outputs": [
        {
          "output_type": "execute_result",
          "data": {
            "text/plain": [
              "(60000, 28, 28)"
            ]
          },
          "metadata": {
            "tags": []
          },
          "execution_count": 19
        }
      ]
    },
    {
      "cell_type": "code",
      "metadata": {
        "id": "SO5YO05xR6qa",
        "colab_type": "code",
        "colab": {}
      },
      "source": [
        "# Reshape the input to feed the neural network properly\n",
        "# 1:samples, 2:line, 3:columns, 4:channels\n",
        "#In this case the images are monocromatic, so 1-d we have to add this dimension\n",
        "X_train = X_train.reshape(X_train.shape[0], 28, 28, 1)\n",
        "X_test = X_test.reshape(X_test.shape[0], 28, 28, 1)"
      ],
      "execution_count": 0,
      "outputs": []
    },
    {
      "cell_type": "code",
      "metadata": {
        "id": "0Qww8Whlgkvv",
        "colab_type": "code",
        "colab": {}
      },
      "source": [
        "p = tf.keras.models.Sequential([\n",
        "      # 1 Convolution layer\n",
        "      tf.keras.layers.Conv2D(32, (3, 3), activation='relu',\n",
        "                             input_shape=(28, 28, 1)),\n",
        "      # 2 Convolution layer\n",
        "      tf.keras.layers.Conv2D(64, (3, 3), activation='relu'),\n",
        "      # 3 Max Pooling Layer\n",
        "      tf.keras.layers.MaxPooling2D(pool_size=(2, 2)),\n",
        "      # Dropout\n",
        "      tf.keras.layers.Dropout(0.25),\n",
        "      # Serialize with flatten\n",
        "      tf.keras.layers.Flatten(),\n",
        "      # Hidden layer with 128 neurons\n",
        "      tf.keras.layers.Dense(128, activation='relu'),\n",
        "      # Dropout\n",
        "      tf.keras.layers.Dropout(0.25),\n",
        "      # Output layer with softmax\n",
        "      tf.keras.layers.Dense(10, activation='softmax')\n",
        "    ])"
      ],
      "execution_count": 0,
      "outputs": []
    },
    {
      "cell_type": "code",
      "metadata": {
        "id": "_TZ87yNYQZ-h",
        "colab_type": "code",
        "outputId": "e3b50a9e-130e-47c2-efd6-388bc43a93b9",
        "colab": {
          "base_uri": "https://localhost:8080/",
          "height": 434
        }
      },
      "source": [
        "#Summarize the neural network\n",
        "p.summary()"
      ],
      "execution_count": 22,
      "outputs": [
        {
          "output_type": "stream",
          "text": [
            "Model: \"sequential_1\"\n",
            "_________________________________________________________________\n",
            "Layer (type)                 Output Shape              Param #   \n",
            "=================================================================\n",
            "conv2d_2 (Conv2D)            (None, 26, 26, 32)        320       \n",
            "_________________________________________________________________\n",
            "conv2d_3 (Conv2D)            (None, 24, 24, 64)        18496     \n",
            "_________________________________________________________________\n",
            "max_pooling2d_1 (MaxPooling2 (None, 12, 12, 64)        0         \n",
            "_________________________________________________________________\n",
            "dropout_2 (Dropout)          (None, 12, 12, 64)        0         \n",
            "_________________________________________________________________\n",
            "flatten_1 (Flatten)          (None, 9216)              0         \n",
            "_________________________________________________________________\n",
            "dense_2 (Dense)              (None, 128)               1179776   \n",
            "_________________________________________________________________\n",
            "dropout_3 (Dropout)          (None, 128)               0         \n",
            "_________________________________________________________________\n",
            "dense_3 (Dense)              (None, 10)                1290      \n",
            "=================================================================\n",
            "Total params: 1,199,882\n",
            "Trainable params: 1,199,882\n",
            "Non-trainable params: 0\n",
            "_________________________________________________________________\n"
          ],
          "name": "stdout"
        }
      ]
    },
    {
      "cell_type": "code",
      "metadata": {
        "id": "KNJZZfKPir9-",
        "colab_type": "code",
        "colab": {}
      },
      "source": [
        "#Compile the Neural Network\n",
        "p.compile(\n",
        "    loss='categorical_crossentropy',\n",
        "    optimizer=tf.keras.optimizers.Adam(0.001),\n",
        "    metrics=['accuracy'],\n",
        ")"
      ],
      "execution_count": 0,
      "outputs": []
    },
    {
      "cell_type": "code",
      "metadata": {
        "id": "VU6OtvVY08_R",
        "colab_type": "code",
        "outputId": "90c26152-b2e2-4eb3-f806-5800469d18c3",
        "colab": {
          "base_uri": "https://localhost:8080/",
          "height": 364
        }
      },
      "source": [
        "# Trainig the neural network\n",
        "h = p.fit(X_train, Y_train, \\\n",
        "         batch_size=32, epochs=10, \\\n",
        "         validation_data=(X_test, Y_test),\n",
        "         shuffle=True)"
      ],
      "execution_count": 25,
      "outputs": [
        {
          "output_type": "stream",
          "text": [
            "Epoch 1/10\n",
            "1875/1875 [==============================] - 7s 3ms/step - loss: 0.0505 - accuracy: 0.9844 - val_loss: 0.0336 - val_accuracy: 0.9887\n",
            "Epoch 2/10\n",
            "1875/1875 [==============================] - 6s 3ms/step - loss: 0.0383 - accuracy: 0.9879 - val_loss: 0.0389 - val_accuracy: 0.9877\n",
            "Epoch 3/10\n",
            "1875/1875 [==============================] - 6s 3ms/step - loss: 0.0304 - accuracy: 0.9900 - val_loss: 0.0372 - val_accuracy: 0.9879\n",
            "Epoch 4/10\n",
            "1875/1875 [==============================] - 6s 3ms/step - loss: 0.0254 - accuracy: 0.9921 - val_loss: 0.0288 - val_accuracy: 0.9911\n",
            "Epoch 5/10\n",
            "1875/1875 [==============================] - 7s 3ms/step - loss: 0.0193 - accuracy: 0.9937 - val_loss: 0.0343 - val_accuracy: 0.9908\n",
            "Epoch 6/10\n",
            "1875/1875 [==============================] - 7s 3ms/step - loss: 0.0170 - accuracy: 0.9944 - val_loss: 0.0293 - val_accuracy: 0.9917\n",
            "Epoch 7/10\n",
            "1875/1875 [==============================] - 6s 3ms/step - loss: 0.0153 - accuracy: 0.9949 - val_loss: 0.0328 - val_accuracy: 0.9901\n",
            "Epoch 8/10\n",
            "1875/1875 [==============================] - 6s 3ms/step - loss: 0.0136 - accuracy: 0.9958 - val_loss: 0.0357 - val_accuracy: 0.9911\n",
            "Epoch 9/10\n",
            "1875/1875 [==============================] - 6s 3ms/step - loss: 0.0126 - accuracy: 0.9959 - val_loss: 0.0350 - val_accuracy: 0.9907\n",
            "Epoch 10/10\n",
            "1875/1875 [==============================] - 7s 3ms/step - loss: 0.0110 - accuracy: 0.9963 - val_loss: 0.0389 - val_accuracy: 0.9920\n"
          ],
          "name": "stdout"
        }
      ]
    },
    {
      "cell_type": "code",
      "metadata": {
        "id": "wGwjknBmdjDE",
        "colab_type": "code",
        "outputId": "0278c954-87e5-4ccf-bbd0-9526c13d0638",
        "colab": {
          "base_uri": "https://localhost:8080/",
          "height": 265
        }
      },
      "source": [
        "#Plot learning curve\n",
        "plt.plot(h.history['loss'])\n",
        "plt.show()"
      ],
      "execution_count": 26,
      "outputs": [
        {
          "output_type": "display_data",
          "data": {
            "image/png": "[encoded data removed]",
            "text/plain": [
              "<Figure size 432x288 with 1 Axes>"
            ]
          },
          "metadata": {
            "tags": [],
            "needs_background": "light"
          }
        }
      ]
    },
    {
      "cell_type": "code",
      "metadata": {
        "id": "2236d-Ong7p8",
        "colab_type": "code",
        "outputId": "f3acc57a-0d61-43fb-b7ee-aeee1653b13a",
        "colab": {
          "base_uri": "https://localhost:8080/",
          "height": 52
        }
      },
      "source": [
        "#Evaluate the neural network\n",
        "#First using training data\n",
        "loss, accuracy = p.evaluate(X_train, Y_train, verbose=0)\n",
        "print('Accuracy on training data:', 100*accuracy, '%')\n",
        "\n",
        "#Second using test data\n",
        "loss, accuracy = p.evaluate(X_test, Y_test, verbose=0)\n",
        "print('Accuracy on test data:', 100*accuracy, '%')"
      ],
      "execution_count": 28,
      "outputs": [
        {
          "output_type": "stream",
          "text": [
            "Accuracy on training data: 99.94833469390869 %\n",
            "Accuracy on test data: 99.19999837875366 %\n"
          ],
          "name": "stdout"
        }
      ]
    }
  ]
}